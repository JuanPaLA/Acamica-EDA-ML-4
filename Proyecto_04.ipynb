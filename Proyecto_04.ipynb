{
 "cells": [
  {
   "cell_type": "markdown",
   "metadata": {},
   "source": [
    "# Resumen del proyecto\n",
    "Profundiza y ajusta la resolución de tus proyectos. Agrega una fuente de datos, prueba un modelo nuevo o responde una pregunta nueva. Elabora un informe final que describa el proceso de toma de decisiones. Sustenta la razón por la cual usaste las librerías y aplicaste los métodos al dataset. Todos tus hallazgos deberán ser comunicados en función de la problemática y las preguntas que buscabas responder.\n",
    "\n",
    "La realización y entrega del Proyecto es individual."
   ]
  },
  {
   "cell_type": "markdown",
   "metadata": {},
   "source": [
    "\n",
    "# Consignas\n",
    "**Te presentamos los pasos a seguir para realizar el proyecto 04.**\n",
    "\n",
    "1. **Elige tu punto de partida entre dos opciones:**\n",
    "- Tus Proyectos 01 y 02\n",
    "- Tu Proyecto 03\n",
    "\n",
    "Si corresponde, emprolija lo hecho hasta el momento, incorporando las correcciones y/o sugerencias que hayas recibido de tu(s) evaluador/a (es/as).\n",
    "\n",
    "2. **Formula una nueva pregunta, problema o desafío para explorar.** Aquí hay una lista no exhaustiva de opciones que puedes elegir:\n",
    "\n",
    "- [x] **Prueba un modelo de Machine Learning nuevo** que no hayas visto en la carrera.** En ese caso, debes explicar su funcionamiento y por qué consideras apropiado aplicarlo. La ganancia no necesariamente tiene que ser en desempeño, también puede ser en interpretabilidad o aplicabilidad.\n",
    "\n",
    "- **Agrega al proyecto información de otra fuente**. ¡Es sumamente válido! En ese caso, debe estar claramente explicado cómo conseguiste esos datos y qué usos esperas darles. Los datos deben ser accesibles por tu evaluador/a (por ejemplo, puedes subirlos al repositorio). Presta atención a la sensibilidad y privacidad de los datos antes de compartirlos.**\n",
    "\n",
    "- **Continúa el Análisis Exploratorio de Datos.** Recuerda que es tan importante como entrenar un modelo de Machine Learning.\n",
    "\n",
    "- **Sigue las sugerencias que te propusimos en los notebooks para continuar el Proyecto 03.**\n",
    "\n",
    "- **Plantea un objetivo alcanzable.** En esta etapa de tu formación, es preferible un problema sencillo bien abordado que uno ambicioso que no sabes cómo abordar. El objetivo debe estar correctamente explicitado. Debes explicar qué quieres hacer y qué esperas encontrar. Imagina que es una tarea en tu trabajo y tienes que explicarle a un/a jefe/a qué vas a hacer y por qué."
   ]
  },
  {
   "cell_type": "markdown",
   "metadata": {},
   "source": [
    "# `Punto de partida`\n",
    "\n",
    "**Proyecto 03**\n",
    "\n",
    "Objetivo general: Procesamiento de lenguaje natural para la construcción de un algoritmo de análisis de sentimientos. \n",
    "\n",
    "Archivo adjunto con el nombre 'Proyecto_03.ipynb'.\n",
    "\n",
    "# `Desafío a explorar`\n",
    "\n",
    "En el proyecto número 3 hemos desarrollado un algoritmo de clasificación de sentimientos haciendo uso de las variadas estrategias vistas en el curso. \n",
    "\n",
    "El modelo ha sido entrenado con datos colectados en el marco de una investigación académica de Gastón Becerra y pueden ser accedidos desde <a href=\"https://drive.google.com/file/d/1uR5tBRi0BCNickMrl3fTJ2dpwZfRD3YR/view?usp=sharing\">aquí</a>. \n",
    "\n",
    "Los datos hacen rerencia a ditintas expresiones realizadas en artículos periodísticos referentes a la noción de \"big data\". Mediante un proceso de scrapping, se colectaron una serie de miles de oraciones presentes en estos artículos provenientes de los diarios más importante de Argentina. Encontraremos en nuestro dataset, entonces, una miríada de aserciones respecto al big data desde un contexto informativo argentino. \n",
    "\n",
    "Para generar el algoritmo de clasificación en base a reconocimiento de sentimientos, nos tomamos el trabajo de crear una interfaz de clasificación haciendo uso de angular y firebase en este <a href=\"https://fraser6-d10a4.web.app/\">sitio</a>. Desde allí clasificamos más de 500 muestras en positivas y negativas. \n",
    "\n",
    "Como se vio en el proyecto anterior (presente en el archivo Proyecto_03), dicho dataset presentaba de una sobre-representación de muestras positivas por sobre las negativas en una relación de 4 a 1, en un total de 500 instancias de muestra. \n",
    "\n",
    "Esta problemática, sumado a la complejidad que presentó el hecho de que el vocabulario presente en ambos tipos de oraciones fuese bastante similar (por estar todas las oraciones orientadas a la misma referencia (noción de \"Big data\")), comportaron ciertas dificultades en la creación y entrenamiento del modelo de clasificación. Como es de esperarse en una situación así, las matrices de confusión de los diferentes modelos entrenados presentaban una baja eficiencia para clasificar correctamenta las muestas negativas, y sobre-estimaban la predicción de la clase positiva. \n",
    "\n",
    "Para suplir, en parte, dicho procheblema, acudimos a una estrategia de Oversampling, de modo que generamos muestras negativas de carácter sintético mediando un algoritmo basado en KKN Neighbourghs. \n",
    "\n",
    "Con este \"parche\", logramos elevar la eficiencia de los diferentes modelos en la clasificación de muestras negativas en un accuracy cercano al 65%, y de un 85% o más para la clasificación de muestras positivas. \n",
    "\n",
    "Ahora, **Lo que pretendemos construir en este proyecto es una mejora en la eficiencia de la predicción de muestras negativas. ¿Cómo?**\n",
    "\n",
    "Vamos a tomar muestras aún no clasificadas para generar predicciones sobre un grupo de muestras, e ingresaremos luego las muestras negativas al total de muestras con las que re-entrenaremos el modelo. \n",
    "\n",
    "**La hipótesis de este desafío circunda en suponer que la eficacia predictiva de nuestro modelo puede crecer si utilizamos muestras auténticas por sobre las muestras sintéticas generadas en el proyecto anterior.**\n",
    "\n",
    "Veremos si tal intución se válida o no. \n",
    "\n",
    "\n",
    "# `Nuevas fuentes a ser investigadas: Big Data Reviews`\n",
    "\n",
    "**Este dataset resulta de un trabajo de <a href=\"https://uba.academia.edu/gastonbecerra/Papers\">Gastón Becerra</a>, interesado en colectar valoraciones acerca de tecnologías emergentes en el espacio de publicaciones online en Argentina. En este caso en particular, trabajaremos sobre un dataset que contiene exclusivamente valoraciones textuales respecto a la noción de Big Data.** \n",
    "\n",
    "Mientras en el proyecto anterior se trabajó en la construcción del modelo con las muestras ya clasificadas, buscaremos ahora extender las capacidades predictivas del modelo entrenándolo con las mismas muestras que consigamos ahora etiquetar. Especialmente, lo que nos falta son más muestras negativas. Las añadiremos al conjunto de datos de entrenamiento utilizado en el desafío anterior para intentar mejorar la predicción de muestras negativas, que resultó ser un desafío pendiente del trabajo anterior. \n",
    "\n",
    "El dataset puede ser encontrado en el siguiente <a href=\"https://drive.google.com/file/d/14HsqdkcVn_Z0yC8odb1fwwJVnMfMPZBn/view?usp=sharing\"> sitio</a>. \n",
    "\n",
    "El dataset ha sido construido en diversas fases: primero a través de un proceso de scrapping a sitios online de importancia en Argentina; posterior pre-procesamiento básico; y, luego, a través de la construcción de una interfaz web donde utilizamos **Angular JS** y una conexión a **Firebase** para poder clasificar la muestra inicial a través de allegados y conocidos.\n",
    "\n",
    "Pueden dar un vistazo a la interfaz de clasificación <a href=\"https://fraser6-d10a4.web.app/\"> aquí</a>. \n",
    "\n",
    "# `Implementación de nuevos modelos`\n",
    "\n",
    "Hacia el final del proyecto exploramos el uso de algoritmos de Topic Modelling (modelos no cubiertos en el desarrollo del curso) apostando por una estrategia que nos lleva del terreno del aprendizaje supervisado al no-supervizado. "
   ]
  },
  {
   "cell_type": "markdown",
   "metadata": {},
   "source": [
    "<hr/>"
   ]
  },
  {
   "cell_type": "code",
   "execution_count": 1,
   "metadata": {},
   "outputs": [
    {
     "name": "stderr",
     "output_type": "stream",
     "text": [
      "[nltk_data] Downloading package punkt to\n",
      "[nltk_data]     C:\\Users\\juanp\\AppData\\Roaming\\nltk_data...\n",
      "[nltk_data]   Package punkt is already up-to-date!\n",
      "[nltk_data] Downloading package stopwords to\n",
      "[nltk_data]     C:\\Users\\juanp\\AppData\\Roaming\\nltk_data...\n",
      "[nltk_data]   Package stopwords is already up-to-date!\n"
     ]
    },
    {
     "data": {
      "text/plain": [
       "True"
      ]
     },
     "execution_count": 1,
     "metadata": {},
     "output_type": "execute_result"
    }
   ],
   "source": [
    "# Importamos librerías\n",
    "import itertools\n",
    "\n",
    "import numpy as np\n",
    "import pandas as pd\n",
    "\n",
    "import matplotlib.pyplot as plt\n",
    "# Importamos librerías\n",
    "import itertools\n",
    "\n",
    "import numpy as np\n",
    "import pandas as pd\n",
    "\n",
    "import matplotlib.pyplot as plt\n",
    "import seaborn as sns\n",
    "sns.set()\n",
    "\n",
    "import nltk\n",
    "\n",
    "#Esto sirve para configurar NLTK. La primera vez puede tardar un poco\n",
    "nltk.download('punkt')\n",
    "nltk.download('stopwords')"
   ]
  },
  {
   "cell_type": "markdown",
   "metadata": {},
   "source": [
    "# Captura y limpieza de datos"
   ]
  },
  {
   "cell_type": "code",
   "execution_count": 2,
   "metadata": {},
   "outputs": [
    {
     "data": {
      "text/html": [
       "<div>\n",
       "<style scoped>\n",
       "    .dataframe tbody tr th:only-of-type {\n",
       "        vertical-align: middle;\n",
       "    }\n",
       "\n",
       "    .dataframe tbody tr th {\n",
       "        vertical-align: top;\n",
       "    }\n",
       "\n",
       "    .dataframe thead th {\n",
       "        text-align: right;\n",
       "    }\n",
       "</style>\n",
       "<table border=\"1\" class=\"dataframe\">\n",
       "  <thead>\n",
       "    <tr style=\"text-align: right;\">\n",
       "      <th></th>\n",
       "      <th>oraciones/estado</th>\n",
       "      <th>oraciones/id</th>\n",
       "      <th>oraciones/oracion</th>\n",
       "    </tr>\n",
       "  </thead>\n",
       "  <tbody>\n",
       "    <tr>\n",
       "      <th>0</th>\n",
       "      <td>positivo</td>\n",
       "      <td>0.0</td>\n",
       "      <td>' ( el bigdata ) es una forma que guizhou usó ...</td>\n",
       "    </tr>\n",
       "    <tr>\n",
       "      <th>1</th>\n",
       "      <td>neutral</td>\n",
       "      <td>1.0</td>\n",
       "      <td>' , el tipo dice ' porque hay mejor luz ' . bi...</td>\n",
       "    </tr>\n",
       "    <tr>\n",
       "      <th>2</th>\n",
       "      <td>neutral</td>\n",
       "      <td>2.0</td>\n",
       "      <td>' , se pregunta alfredo meneses , bigdata , gr...</td>\n",
       "    </tr>\n",
       "    <tr>\n",
       "      <th>3</th>\n",
       "      <td>neutral</td>\n",
       "      <td>3.0</td>\n",
       "      <td>' ¿ qué es bigdata ?</td>\n",
       "    </tr>\n",
       "    <tr>\n",
       "      <th>4</th>\n",
       "      <td>positivo</td>\n",
       "      <td>4.0</td>\n",
       "      <td>' a la variedad , volumen y veracidad de infor...</td>\n",
       "    </tr>\n",
       "    <tr>\n",
       "      <th>...</th>\n",
       "      <td>...</td>\n",
       "      <td>...</td>\n",
       "      <td>...</td>\n",
       "    </tr>\n",
       "    <tr>\n",
       "      <th>95</th>\n",
       "      <td>neutral</td>\n",
       "      <td>95.0</td>\n",
       "      <td>' es un aspecto que viene ganando relevancia ,...</td>\n",
       "    </tr>\n",
       "    <tr>\n",
       "      <th>96</th>\n",
       "      <td>positivo</td>\n",
       "      <td>96.0</td>\n",
       "      <td>' es un orgullo que alta nos elija para hacer ...</td>\n",
       "    </tr>\n",
       "    <tr>\n",
       "      <th>97</th>\n",
       "      <td>descartar</td>\n",
       "      <td>97.0</td>\n",
       "      <td>' es un orgullo que alta nos elija para hacer ...</td>\n",
       "    </tr>\n",
       "    <tr>\n",
       "      <th>98</th>\n",
       "      <td>positivo</td>\n",
       "      <td>98.0</td>\n",
       "      <td>' es un programa - continuó - que aplicando in...</td>\n",
       "    </tr>\n",
       "    <tr>\n",
       "      <th>99</th>\n",
       "      <td>positivo</td>\n",
       "      <td>99.0</td>\n",
       "      <td>' es una nueva forma de relacionar con el clie...</td>\n",
       "    </tr>\n",
       "  </tbody>\n",
       "</table>\n",
       "<p>100 rows × 3 columns</p>\n",
       "</div>"
      ],
      "text/plain": [
       "   oraciones/estado  oraciones/id  \\\n",
       "0          positivo           0.0   \n",
       "1           neutral           1.0   \n",
       "2           neutral           2.0   \n",
       "3           neutral           3.0   \n",
       "4          positivo           4.0   \n",
       "..              ...           ...   \n",
       "95          neutral          95.0   \n",
       "96         positivo          96.0   \n",
       "97        descartar          97.0   \n",
       "98         positivo          98.0   \n",
       "99         positivo          99.0   \n",
       "\n",
       "                                    oraciones/oracion  \n",
       "0   ' ( el bigdata ) es una forma que guizhou usó ...  \n",
       "1   ' , el tipo dice ' porque hay mejor luz ' . bi...  \n",
       "2   ' , se pregunta alfredo meneses , bigdata , gr...  \n",
       "3                                ' ¿ qué es bigdata ?  \n",
       "4   ' a la variedad , volumen y veracidad de infor...  \n",
       "..                                                ...  \n",
       "95  ' es un aspecto que viene ganando relevancia ,...  \n",
       "96  ' es un orgullo que alta nos elija para hacer ...  \n",
       "97  ' es un orgullo que alta nos elija para hacer ...  \n",
       "98  ' es un programa - continuó - que aplicando in...  \n",
       "99  ' es una nueva forma de relacionar con el clie...  \n",
       "\n",
       "[100 rows x 3 columns]"
      ]
     },
     "execution_count": 2,
     "metadata": {},
     "output_type": "execute_result"
    }
   ],
   "source": [
    "# Creamos dataset inicial\n",
    "# Tiene una combinación de muestras clasificadas y no clasificadas, siendo éstas la mayoría\n",
    "\n",
    "df = pd.read_csv('fraser6-d10a4-default-rtdb-export (1).csv')\n",
    "df.head(100)"
   ]
  },
  {
   "cell_type": "code",
   "execution_count": 3,
   "metadata": {},
   "outputs": [
    {
     "data": {
      "text/html": [
       "<div>\n",
       "<style scoped>\n",
       "    .dataframe tbody tr th:only-of-type {\n",
       "        vertical-align: middle;\n",
       "    }\n",
       "\n",
       "    .dataframe tbody tr th {\n",
       "        vertical-align: top;\n",
       "    }\n",
       "\n",
       "    .dataframe thead th {\n",
       "        text-align: right;\n",
       "    }\n",
       "</style>\n",
       "<table border=\"1\" class=\"dataframe\">\n",
       "  <thead>\n",
       "    <tr style=\"text-align: right;\">\n",
       "      <th></th>\n",
       "      <th>oraciones/estado</th>\n",
       "      <th>oraciones/oracion</th>\n",
       "    </tr>\n",
       "  </thead>\n",
       "  <tbody>\n",
       "    <tr>\n",
       "      <th>0</th>\n",
       "      <td>positivo</td>\n",
       "      <td>' ( el bigdata ) es una forma que guizhou usó ...</td>\n",
       "    </tr>\n",
       "    <tr>\n",
       "      <th>1</th>\n",
       "      <td>neutral</td>\n",
       "      <td>' , el tipo dice ' porque hay mejor luz ' . bi...</td>\n",
       "    </tr>\n",
       "    <tr>\n",
       "      <th>2</th>\n",
       "      <td>neutral</td>\n",
       "      <td>' , se pregunta alfredo meneses , bigdata , gr...</td>\n",
       "    </tr>\n",
       "    <tr>\n",
       "      <th>3</th>\n",
       "      <td>neutral</td>\n",
       "      <td>' ¿ qué es bigdata ?</td>\n",
       "    </tr>\n",
       "    <tr>\n",
       "      <th>4</th>\n",
       "      <td>positivo</td>\n",
       "      <td>' a la variedad , volumen y veracidad de infor...</td>\n",
       "    </tr>\n",
       "    <tr>\n",
       "      <th>...</th>\n",
       "      <td>...</td>\n",
       "      <td>...</td>\n",
       "    </tr>\n",
       "    <tr>\n",
       "      <th>3689</th>\n",
       "      <td>positivo</td>\n",
       "      <td>ya sea en china o en silicon valley , la puja ...</td>\n",
       "    </tr>\n",
       "    <tr>\n",
       "      <th>3690</th>\n",
       "      <td>descartar</td>\n",
       "      <td>ya tiene dos productos en fase de prototipo . ...</td>\n",
       "    </tr>\n",
       "    <tr>\n",
       "      <th>3691</th>\n",
       "      <td>negativo</td>\n",
       "      <td>yo sé que tenés una gran ventaja porque del la...</td>\n",
       "    </tr>\n",
       "    <tr>\n",
       "      <th>3692</th>\n",
       "      <td>descartar</td>\n",
       "      <td>young sinatra lsd ( labrinth , sia , diplo ) -...</td>\n",
       "    </tr>\n",
       "    <tr>\n",
       "      <th>3693</th>\n",
       "      <td>negativo</td>\n",
       "      <td>zhou keda , socióloga de la academia china de ...</td>\n",
       "    </tr>\n",
       "  </tbody>\n",
       "</table>\n",
       "<p>3694 rows × 2 columns</p>\n",
       "</div>"
      ],
      "text/plain": [
       "     oraciones/estado                                  oraciones/oracion\n",
       "0            positivo  ' ( el bigdata ) es una forma que guizhou usó ...\n",
       "1             neutral  ' , el tipo dice ' porque hay mejor luz ' . bi...\n",
       "2             neutral  ' , se pregunta alfredo meneses , bigdata , gr...\n",
       "3             neutral                               ' ¿ qué es bigdata ?\n",
       "4            positivo  ' a la variedad , volumen y veracidad de infor...\n",
       "...               ...                                                ...\n",
       "3689         positivo  ya sea en china o en silicon valley , la puja ...\n",
       "3690        descartar  ya tiene dos productos en fase de prototipo . ...\n",
       "3691         negativo  yo sé que tenés una gran ventaja porque del la...\n",
       "3692        descartar  young sinatra lsd ( labrinth , sia , diplo ) -...\n",
       "3693         negativo  zhou keda , socióloga de la academia china de ...\n",
       "\n",
       "[3694 rows x 2 columns]"
      ]
     },
     "execution_count": 3,
     "metadata": {},
     "output_type": "execute_result"
    }
   ],
   "source": [
    "# Eliminamos columna innecesaria\n",
    "\n",
    "df.drop(['oraciones/id'], axis= 1)"
   ]
  },
  {
   "cell_type": "code",
   "execution_count": 4,
   "metadata": {},
   "outputs": [
    {
     "data": {
      "text/plain": [
       "array(['positivo', 'neutral', 'negativo', 'descartar', nan], dtype=object)"
      ]
     },
     "execution_count": 4,
     "metadata": {},
     "output_type": "execute_result"
    }
   ],
   "source": [
    "# Verificamos qué valores admite la columna de \"estado\", que es básicamente nuestra variable target\n",
    "\n",
    "df['oraciones/estado'].unique()"
   ]
  },
  {
   "cell_type": "code",
   "execution_count": 5,
   "metadata": {},
   "outputs": [
    {
     "name": "stdout",
     "output_type": "stream",
     "text": [
      "(3694, 3)\n"
     ]
    },
    {
     "data": {
      "image/png": "[encoded data removed]",
      "text/plain": [
       "<Figure size 432x288 with 1 Axes>"
      ]
     },
     "metadata": {},
     "output_type": "display_data"
    }
   ],
   "source": [
    "sns.countplot(df['oraciones/estado']).set_title('', size=22)\n",
    "print(df.shape)"
   ]
  },
  {
   "cell_type": "markdown",
   "metadata": {},
   "source": [
    "<div style=\"padding: 10px 10px 10px 10px; background-color:lightgrey;color:black; text-align:left\">\n",
    "    <h4> Observaciones</h4>\n",
    "    <p>Como dijimos en un principio, este dataset contiene tanto las muestras clasificadas, como las que aún no lo fueron.</p>\n",
    "    <p>Como puede observarse en relación al shape, de las casi 3700 muestras sólo 1400 cuentan con algún estado de clasificación.</p>\n",
    "    <p>Lo que buscaremos es hacernos sólo con las muestras no clasificadas para:</p>\n",
    "\n",
    "<div>\n",
    "    <ol>\n",
    "        <li>Separamos las muestras no clasificadas del conjunto del dataset.</li>\n",
    "        <li>Aplicamos el mismo proceso de normalización que se hizo en el proyecto anterior al nuevo dataset no etiquetado.</li>\n",
    "        <ol>\n",
    "            <li>Eliminamos las valoraciones de menos de x cantidad de palabras o caracteres</li>\n",
    "            <li>Eliminamos stopwords</li>\n",
    "            <li>Pasamos todo a minúsculas</li>\n",
    "            <li>Toekenizamos</li>\n",
    "            <li>Vectorizamos</li>\n",
    "            <li>Contruímos nuevo bag of word, en lo que será el nuevo <strong><i>xtest</i></strong></li>\n",
    "        </ol>\n",
    "        <li>Usamos los datos de testeo para obtener nueva predicción/clasificación.</li>\n",
    "        <li>Obtenemos nuevas muestras clasificadas a partir de la predicción.</li>\n",
    "        <li>Validación cruzada de tales muestras mediante input humano (sólo algunas).</li>\n",
    "        <li>Forjamos nuevos modelos con la combinación de las muestras previamente clasificadas y de las ahora clasificadas.</li>\n",
    "        <li>Evualación de rendimiento de los mejores modelos y muestras de entrenamiento.</li>\n",
    "        <li>Comprobamos si podemos superar el baseline de 65% de accuracy en clasificación de muestras negativas </li>\n",
    "        <li>Evaluación de próximos pasos.</li>\n",
    "    </ol>\n",
    "    </div>\n",
    "    \n",
    "</div>"
   ]
  },
  {
   "cell_type": "code",
   "execution_count": 6,
   "metadata": {},
   "outputs": [
    {
     "data": {
      "text/plain": [
       "(3097, 3)"
      ]
     },
     "execution_count": 6,
     "metadata": {},
     "output_type": "execute_result"
    }
   ],
   "source": [
    "# Nos deshacemos de las muestras neutrales\n",
    "\n",
    "dataset = df[(df['oraciones/estado'] != 'neutral')]\n",
    "dataset.shape"
   ]
  },
  {
   "cell_type": "code",
   "execution_count": 7,
   "metadata": {},
   "outputs": [
    {
     "data": {
      "text/plain": [
       "(2875, 3)"
      ]
     },
     "execution_count": 7,
     "metadata": {},
     "output_type": "execute_result"
    }
   ],
   "source": [
    "# Nos deshacemos de las muestras para descartar\n",
    "\n",
    "dataset = dataset[(dataset['oraciones/estado'] != 'descartar')]\n",
    "dataset.shape"
   ]
  },
  {
   "cell_type": "code",
   "execution_count": 8,
   "metadata": {},
   "outputs": [
    {
     "data": {
      "text/plain": [
       "(2767, 3)"
      ]
     },
     "execution_count": 8,
     "metadata": {},
     "output_type": "execute_result"
    }
   ],
   "source": [
    "# Nos deshacemos de las muestras previamente clasificadas como negativas\n",
    "\n",
    "dataset = dataset[(dataset['oraciones/estado'] != 'negativo')]\n",
    "dataset.shape"
   ]
  },
  {
   "cell_type": "code",
   "execution_count": 9,
   "metadata": {},
   "outputs": [
    {
     "data": {
      "text/plain": [
       "(2308, 3)"
      ]
     },
     "execution_count": 9,
     "metadata": {},
     "output_type": "execute_result"
    }
   ],
   "source": [
    "# Nos deshacemos de las muestras previamente clasificadas como positivas\n",
    "\n",
    "dataset = dataset[(dataset['oraciones/estado'] != 'positivo')]\n",
    "dataset.shape"
   ]
  },
  {
   "cell_type": "code",
   "execution_count": 10,
   "metadata": {},
   "outputs": [
    {
     "data": {
      "text/plain": [
       "2308"
      ]
     },
     "execution_count": 10,
     "metadata": {},
     "output_type": "execute_result"
    }
   ],
   "source": [
    "# Contamos finalmente cuántas muestras sin clasificar tenemos en total \n",
    "\n",
    "dataset['oraciones/estado'].isna().sum()"
   ]
  },
  {
   "cell_type": "code",
   "execution_count": 11,
   "metadata": {},
   "outputs": [
    {
     "data": {
      "text/html": [
       "<div>\n",
       "<style scoped>\n",
       "    .dataframe tbody tr th:only-of-type {\n",
       "        vertical-align: middle;\n",
       "    }\n",
       "\n",
       "    .dataframe tbody tr th {\n",
       "        vertical-align: top;\n",
       "    }\n",
       "\n",
       "    .dataframe thead th {\n",
       "        text-align: right;\n",
       "    }\n",
       "</style>\n",
       "<table border=\"1\" class=\"dataframe\">\n",
       "  <thead>\n",
       "    <tr style=\"text-align: right;\">\n",
       "      <th></th>\n",
       "      <th>oraciones/estado</th>\n",
       "      <th>oraciones/id</th>\n",
       "      <th>oraciones/oracion</th>\n",
       "    </tr>\n",
       "  </thead>\n",
       "  <tbody>\n",
       "    <tr>\n",
       "      <th>1090</th>\n",
       "      <td>NaN</td>\n",
       "      <td>NaN</td>\n",
       "      <td>el bigdata cruza todos los segmentos y especia...</td>\n",
       "    </tr>\n",
       "    <tr>\n",
       "      <th>1091</th>\n",
       "      <td>NaN</td>\n",
       "      <td>NaN</td>\n",
       "      <td>el bigdata de la argentina territorialmente po...</td>\n",
       "    </tr>\n",
       "    <tr>\n",
       "      <th>1092</th>\n",
       "      <td>NaN</td>\n",
       "      <td>NaN</td>\n",
       "      <td>el bigdata debe lograr obtener conocimiento de...</td>\n",
       "    </tr>\n",
       "    <tr>\n",
       "      <th>1093</th>\n",
       "      <td>NaN</td>\n",
       "      <td>NaN</td>\n",
       "      <td>el bigdata dejó de ser una tendencia para pasa...</td>\n",
       "    </tr>\n",
       "    <tr>\n",
       "      <th>1094</th>\n",
       "      <td>NaN</td>\n",
       "      <td>NaN</td>\n",
       "      <td>el bigdata en el campo médico , que integra la...</td>\n",
       "    </tr>\n",
       "  </tbody>\n",
       "</table>\n",
       "</div>"
      ],
      "text/plain": [
       "     oraciones/estado  oraciones/id  \\\n",
       "1090              NaN           NaN   \n",
       "1091              NaN           NaN   \n",
       "1092              NaN           NaN   \n",
       "1093              NaN           NaN   \n",
       "1094              NaN           NaN   \n",
       "\n",
       "                                      oraciones/oracion  \n",
       "1090  el bigdata cruza todos los segmentos y especia...  \n",
       "1091  el bigdata de la argentina territorialmente po...  \n",
       "1092  el bigdata debe lograr obtener conocimiento de...  \n",
       "1093  el bigdata dejó de ser una tendencia para pasa...  \n",
       "1094  el bigdata en el campo médico , que integra la...  "
      ]
     },
     "execution_count": 11,
     "metadata": {},
     "output_type": "execute_result"
    }
   ],
   "source": [
    "# Visualizamos el dataset \n",
    "\n",
    "dataset.head(5)"
   ]
  },
  {
   "cell_type": "code",
   "execution_count": 12,
   "metadata": {},
   "outputs": [
    {
     "data": {
      "text/html": [
       "<div>\n",
       "<style scoped>\n",
       "    .dataframe tbody tr th:only-of-type {\n",
       "        vertical-align: middle;\n",
       "    }\n",
       "\n",
       "    .dataframe tbody tr th {\n",
       "        vertical-align: top;\n",
       "    }\n",
       "\n",
       "    .dataframe thead th {\n",
       "        text-align: right;\n",
       "    }\n",
       "</style>\n",
       "<table border=\"1\" class=\"dataframe\">\n",
       "  <thead>\n",
       "    <tr style=\"text-align: right;\">\n",
       "      <th></th>\n",
       "      <th>oraciones/oracion</th>\n",
       "    </tr>\n",
       "  </thead>\n",
       "  <tbody>\n",
       "    <tr>\n",
       "      <th>1090</th>\n",
       "      <td>el bigdata cruza todos los segmentos y especia...</td>\n",
       "    </tr>\n",
       "    <tr>\n",
       "      <th>1091</th>\n",
       "      <td>el bigdata de la argentina territorialmente po...</td>\n",
       "    </tr>\n",
       "    <tr>\n",
       "      <th>1092</th>\n",
       "      <td>el bigdata debe lograr obtener conocimiento de...</td>\n",
       "    </tr>\n",
       "    <tr>\n",
       "      <th>1093</th>\n",
       "      <td>el bigdata dejó de ser una tendencia para pasa...</td>\n",
       "    </tr>\n",
       "    <tr>\n",
       "      <th>1094</th>\n",
       "      <td>el bigdata en el campo médico , que integra la...</td>\n",
       "    </tr>\n",
       "  </tbody>\n",
       "</table>\n",
       "</div>"
      ],
      "text/plain": [
       "                                      oraciones/oracion\n",
       "1090  el bigdata cruza todos los segmentos y especia...\n",
       "1091  el bigdata de la argentina territorialmente po...\n",
       "1092  el bigdata debe lograr obtener conocimiento de...\n",
       "1093  el bigdata dejó de ser una tendencia para pasa...\n",
       "1094  el bigdata en el campo médico , que integra la..."
      ]
     },
     "execution_count": 12,
     "metadata": {},
     "output_type": "execute_result"
    }
   ],
   "source": [
    "# Eliminamos columnas innecesarias \n",
    "\n",
    "dataset.drop(['oraciones/id'], axis= 1, inplace=True)\n",
    "dataset.drop(['oraciones/estado'], axis=1, inplace=True)\n",
    "dataset.head()"
   ]
  },
  {
   "cell_type": "code",
   "execution_count": 13,
   "metadata": {},
   "outputs": [],
   "source": [
    "# Proseguimos con un nuevo dataset \n",
    "\n",
    "df = dataset"
   ]
  },
  {
   "cell_type": "code",
   "execution_count": 14,
   "metadata": {},
   "outputs": [
    {
     "data": {
      "text/html": [
       "<div>\n",
       "<style scoped>\n",
       "    .dataframe tbody tr th:only-of-type {\n",
       "        vertical-align: middle;\n",
       "    }\n",
       "\n",
       "    .dataframe tbody tr th {\n",
       "        vertical-align: top;\n",
       "    }\n",
       "\n",
       "    .dataframe thead th {\n",
       "        text-align: right;\n",
       "    }\n",
       "</style>\n",
       "<table border=\"1\" class=\"dataframe\">\n",
       "  <thead>\n",
       "    <tr style=\"text-align: right;\">\n",
       "      <th></th>\n",
       "      <th>oraciones/oracion</th>\n",
       "    </tr>\n",
       "  </thead>\n",
       "  <tbody>\n",
       "    <tr>\n",
       "      <th>1090</th>\n",
       "      <td>el bigdata cruza todos los segmentos y especia...</td>\n",
       "    </tr>\n",
       "    <tr>\n",
       "      <th>1091</th>\n",
       "      <td>el bigdata de la argentina territorialmente po...</td>\n",
       "    </tr>\n",
       "    <tr>\n",
       "      <th>1092</th>\n",
       "      <td>el bigdata debe lograr obtener conocimiento de...</td>\n",
       "    </tr>\n",
       "    <tr>\n",
       "      <th>1093</th>\n",
       "      <td>el bigdata dejó de ser una tendencia para pasa...</td>\n",
       "    </tr>\n",
       "    <tr>\n",
       "      <th>1094</th>\n",
       "      <td>el bigdata en el campo médico , que integra la...</td>\n",
       "    </tr>\n",
       "  </tbody>\n",
       "</table>\n",
       "</div>"
      ],
      "text/plain": [
       "                                      oraciones/oracion\n",
       "1090  el bigdata cruza todos los segmentos y especia...\n",
       "1091  el bigdata de la argentina territorialmente po...\n",
       "1092  el bigdata debe lograr obtener conocimiento de...\n",
       "1093  el bigdata dejó de ser una tendencia para pasa...\n",
       "1094  el bigdata en el campo médico , que integra la..."
      ]
     },
     "execution_count": 14,
     "metadata": {},
     "output_type": "execute_result"
    }
   ],
   "source": [
    "df.head()"
   ]
  },
  {
   "cell_type": "code",
   "execution_count": 15,
   "metadata": {},
   "outputs": [
    {
     "data": {
      "text/html": [
       "<div>\n",
       "<style scoped>\n",
       "    .dataframe tbody tr th:only-of-type {\n",
       "        vertical-align: middle;\n",
       "    }\n",
       "\n",
       "    .dataframe tbody tr th {\n",
       "        vertical-align: top;\n",
       "    }\n",
       "\n",
       "    .dataframe thead th {\n",
       "        text-align: right;\n",
       "    }\n",
       "</style>\n",
       "<table border=\"1\" class=\"dataframe\">\n",
       "  <thead>\n",
       "    <tr style=\"text-align: right;\">\n",
       "      <th></th>\n",
       "      <th>oraciones</th>\n",
       "    </tr>\n",
       "  </thead>\n",
       "  <tbody>\n",
       "    <tr>\n",
       "      <th>1090</th>\n",
       "      <td>el bigdata cruza todos los segmentos y especia...</td>\n",
       "    </tr>\n",
       "    <tr>\n",
       "      <th>1091</th>\n",
       "      <td>el bigdata de la argentina territorialmente po...</td>\n",
       "    </tr>\n",
       "    <tr>\n",
       "      <th>1092</th>\n",
       "      <td>el bigdata debe lograr obtener conocimiento de...</td>\n",
       "    </tr>\n",
       "    <tr>\n",
       "      <th>1093</th>\n",
       "      <td>el bigdata dejó de ser una tendencia para pasa...</td>\n",
       "    </tr>\n",
       "    <tr>\n",
       "      <th>1094</th>\n",
       "      <td>el bigdata en el campo médico , que integra la...</td>\n",
       "    </tr>\n",
       "  </tbody>\n",
       "</table>\n",
       "</div>"
      ],
      "text/plain": [
       "                                              oraciones\n",
       "1090  el bigdata cruza todos los segmentos y especia...\n",
       "1091  el bigdata de la argentina territorialmente po...\n",
       "1092  el bigdata debe lograr obtener conocimiento de...\n",
       "1093  el bigdata dejó de ser una tendencia para pasa...\n",
       "1094  el bigdata en el campo médico , que integra la..."
      ]
     },
     "execution_count": 15,
     "metadata": {},
     "output_type": "execute_result"
    }
   ],
   "source": [
    "# Renombramos los títulos de columnas con nombre más conveniente \n",
    "\n",
    "df.rename(columns = {'oraciones/oracion':'oraciones'}, inplace = True) \n",
    "df.head()"
   ]
  },
  {
   "cell_type": "markdown",
   "metadata": {},
   "source": [
    "# Normalización"
   ]
  },
  {
   "cell_type": "markdown",
   "metadata": {},
   "source": [
    "## `Exploración de frecuencias`"
   ]
  },
  {
   "cell_type": "code",
   "execution_count": 16,
   "metadata": {},
   "outputs": [],
   "source": [
    "# Pre-procesamiento básico para entender la distribución de frecuencias \n",
    "\n",
    "stopwords = nltk.corpus.stopwords.words('spanish')\n",
    "stopwords = [palabra for palabra in stopwords if 'not' not in palabra]\n",
    "valoraciones = []\n",
    "for i in range(df.shape[0]):\n",
    "    review = df.iloc[i].oraciones\n",
    "    review = nltk.tokenize.RegexpTokenizer(\"[\\w]+\").tokenize(review)\n",
    "    review = [string.lower() for string in review]\n",
    "    review = [word for word in review if word not in stopwords]\n",
    "    \n",
    "    valoraciones.append(review)"
   ]
  },
  {
   "cell_type": "code",
   "execution_count": 17,
   "metadata": {},
   "outputs": [],
   "source": [
    "# Las pasamos a lista\n",
    "\n",
    "valoraciones = list(itertools.chain(*valoraciones))"
   ]
  },
  {
   "cell_type": "code",
   "execution_count": 18,
   "metadata": {},
   "outputs": [
    {
     "data": {
      "text/plain": [
       "FreqDist({'bigdata': 2430, 'datos': 688, 'información': 435, 'empresas': 218, 'digital': 184, 'análisis': 182, 'grandes': 179, 'tecnología': 175, 'uso': 162, 'internet': 160, ...})"
      ]
     },
     "execution_count": 18,
     "metadata": {},
     "output_type": "execute_result"
    }
   ],
   "source": [
    "# Las ponemos dentro de una variable de frecuencias de nltk\n",
    "\n",
    "freq = nltk.FreqDist(valoraciones)\n",
    "freq"
   ]
  },
  {
   "cell_type": "code",
   "execution_count": 19,
   "metadata": {},
   "outputs": [
    {
     "name": "stdout",
     "output_type": "stream",
     "text": [
      "----------REVIEWS----------\n"
     ]
    },
    {
     "data": {
      "text/html": [
       "<div>\n",
       "<style scoped>\n",
       "    .dataframe tbody tr th:only-of-type {\n",
       "        vertical-align: middle;\n",
       "    }\n",
       "\n",
       "    .dataframe tbody tr th {\n",
       "        vertical-align: top;\n",
       "    }\n",
       "\n",
       "    .dataframe thead th {\n",
       "        text-align: right;\n",
       "    }\n",
       "</style>\n",
       "<table border=\"1\" class=\"dataframe\">\n",
       "  <thead>\n",
       "    <tr style=\"text-align: right;\">\n",
       "      <th></th>\n",
       "      <th>Word</th>\n",
       "      <th>Frequency</th>\n",
       "    </tr>\n",
       "  </thead>\n",
       "  <tbody>\n",
       "    <tr>\n",
       "      <th>0</th>\n",
       "      <td>bigdata</td>\n",
       "      <td>2430</td>\n",
       "    </tr>\n",
       "    <tr>\n",
       "      <th>9</th>\n",
       "      <td>datos</td>\n",
       "      <td>688</td>\n",
       "    </tr>\n",
       "    <tr>\n",
       "      <th>75</th>\n",
       "      <td>información</td>\n",
       "      <td>435</td>\n",
       "    </tr>\n",
       "    <tr>\n",
       "      <th>60</th>\n",
       "      <td>empresas</td>\n",
       "      <td>218</td>\n",
       "    </tr>\n",
       "    <tr>\n",
       "      <th>409</th>\n",
       "      <td>digital</td>\n",
       "      <td>184</td>\n",
       "    </tr>\n",
       "    <tr>\n",
       "      <th>235</th>\n",
       "      <td>análisis</td>\n",
       "      <td>182</td>\n",
       "    </tr>\n",
       "    <tr>\n",
       "      <th>280</th>\n",
       "      <td>grandes</td>\n",
       "      <td>179</td>\n",
       "    </tr>\n",
       "    <tr>\n",
       "      <th>335</th>\n",
       "      <td>tecnología</td>\n",
       "      <td>175</td>\n",
       "    </tr>\n",
       "    <tr>\n",
       "      <th>70</th>\n",
       "      <td>uso</td>\n",
       "      <td>162</td>\n",
       "    </tr>\n",
       "    <tr>\n",
       "      <th>340</th>\n",
       "      <td>internet</td>\n",
       "      <td>160</td>\n",
       "    </tr>\n",
       "  </tbody>\n",
       "</table>\n",
       "</div>"
      ],
      "text/plain": [
       "            Word  Frequency\n",
       "0        bigdata       2430\n",
       "9          datos        688\n",
       "75   información        435\n",
       "60      empresas        218\n",
       "409      digital        184\n",
       "235     análisis        182\n",
       "280      grandes        179\n",
       "335   tecnología        175\n",
       "70           uso        162\n",
       "340     internet        160"
      ]
     },
     "execution_count": 19,
     "metadata": {},
     "output_type": "execute_result"
    }
   ],
   "source": [
    "# Visualización de la distribución de vocabulario más usado dentro de un dataframe\n",
    "\n",
    "df_freq = pd.DataFrame(list(freq.items()), columns = [\"Word\",\"Frequency\"])\n",
    "print('----------REVIEWS----------')\n",
    "df_freq.sort_values('Frequency',ascending=False, inplace = True)\n",
    "df_freq.head(10)"
   ]
  },
  {
   "cell_type": "code",
   "execution_count": 20,
   "metadata": {},
   "outputs": [
    {
     "data": {
      "image/png": "[encoded data removed]",
      "text/plain": [
       "<Figure size 1440x1008 with 1 Axes>"
      ]
     },
     "metadata": {},
     "output_type": "display_data"
    }
   ],
   "source": [
    "# Visualizamos en gráfico cuáles son los términos más usados \n",
    "\n",
    "plt.figure(figsize = (20,14))\n",
    "plt.subplot(2,1,1)\n",
    "plot = sns.barplot(x  = df_freq.iloc[:30].Word, y = df_freq.iloc[:30].Frequency)\n",
    "plot.set_title('DISTRIBUCIÓN ', size =22)\n",
    "for item in plot.get_xticklabels():\n",
    "    item.set_rotation(45)\n",
    "plt.show()"
   ]
  },
  {
   "cell_type": "markdown",
   "metadata": {},
   "source": [
    "## Normalización y lemmatización con spacy"
   ]
  },
  {
   "cell_type": "code",
   "execution_count": 21,
   "metadata": {},
   "outputs": [],
   "source": [
    "# Importamos las librerías necesarias para el proceso\n",
    "\n",
    "from sklearn.feature_extraction.text import CountVectorizer\n",
    "from sklearn.base import TransformerMixin\n",
    "from sklearn.pipeline import Pipeline\n",
    "from sklearn.svm import LinearSVC\n",
    "#from sklearn.feature_extraction.stop_words import SPANISH_STOP_WORDS\n",
    "from sklearn.metrics import accuracy_score\n",
    "from nltk.corpus import stopwords\n",
    "import string\n",
    "import re\n",
    "import spacy\n",
    "# spacy.load('en')\n",
    "from spacy.lang.es import Spanish\n",
    "parser = Spanish()"
   ]
  },
  {
   "cell_type": "code",
   "execution_count": 22,
   "metadata": {},
   "outputs": [],
   "source": [
    "import spacy\n",
    "nlp = spacy.load(\"es_core_news_sm\")"
   ]
  },
  {
   "cell_type": "code",
   "execution_count": 23,
   "metadata": {},
   "outputs": [],
   "source": [
    "# Función para el procesamiento-normalización de los tokens\n",
    "\n",
    "import re\n",
    "\n",
    "def preprocess(text):\n",
    "    new_text = re.sub('<.*?>', '', text)   # remove HTML tags\n",
    "    #new_text = re.sub(\"[^a-zA-Z]\",\" \",str(x))\n",
    "    new_text = re.sub(r'[^\\w\\s]', '', new_text) # remove punc.\n",
    "    new_text = re.sub(r'\\d+','',new_text)# remove numbers\n",
    "    new_text = new_text.lower() # lower case, .upper() for upper\n",
    "    new_text = re.sub(' +', ' ', new_text) # remove multiple spaces\n",
    "    return new_text"
   ]
  },
  {
   "cell_type": "code",
   "execution_count": 24,
   "metadata": {},
   "outputs": [],
   "source": [
    "# Función para el lemmatizado\n",
    "\n",
    "def lemmatizer(text):\n",
    "    doc = nlp(text)\n",
    "    return ' '.join([word.lemma_ for word in doc])"
   ]
  },
  {
   "cell_type": "code",
   "execution_count": 25,
   "metadata": {},
   "outputs": [],
   "source": [
    "# Creamos un nuevo dataset para no joder la cosa\n",
    "\n",
    "dataset = df"
   ]
  },
  {
   "cell_type": "code",
   "execution_count": 26,
   "metadata": {},
   "outputs": [],
   "source": [
    "# Creamos una nueva columna con el texto pre-procesados\n",
    "\n",
    "dataset['review_clean'] = dataset['oraciones'].apply(lambda x : preprocess(x))"
   ]
  },
  {
   "cell_type": "code",
   "execution_count": 27,
   "metadata": {},
   "outputs": [
    {
     "data": {
      "text/html": [
       "<div>\n",
       "<style scoped>\n",
       "    .dataframe tbody tr th:only-of-type {\n",
       "        vertical-align: middle;\n",
       "    }\n",
       "\n",
       "    .dataframe tbody tr th {\n",
       "        vertical-align: top;\n",
       "    }\n",
       "\n",
       "    .dataframe thead th {\n",
       "        text-align: right;\n",
       "    }\n",
       "</style>\n",
       "<table border=\"1\" class=\"dataframe\">\n",
       "  <thead>\n",
       "    <tr style=\"text-align: right;\">\n",
       "      <th></th>\n",
       "      <th>oraciones</th>\n",
       "      <th>review_clean</th>\n",
       "    </tr>\n",
       "  </thead>\n",
       "  <tbody>\n",
       "    <tr>\n",
       "      <th>1090</th>\n",
       "      <td>el bigdata cruza todos los segmentos y especia...</td>\n",
       "      <td>el bigdata cruza todos los segmentos y especia...</td>\n",
       "    </tr>\n",
       "    <tr>\n",
       "      <th>1091</th>\n",
       "      <td>el bigdata de la argentina territorialmente po...</td>\n",
       "      <td>el bigdata de la argentina territorialmente po...</td>\n",
       "    </tr>\n",
       "    <tr>\n",
       "      <th>1092</th>\n",
       "      <td>el bigdata debe lograr obtener conocimiento de...</td>\n",
       "      <td>el bigdata debe lograr obtener conocimiento de...</td>\n",
       "    </tr>\n",
       "    <tr>\n",
       "      <th>1093</th>\n",
       "      <td>el bigdata dejó de ser una tendencia para pasa...</td>\n",
       "      <td>el bigdata dejó de ser una tendencia para pasa...</td>\n",
       "    </tr>\n",
       "    <tr>\n",
       "      <th>1094</th>\n",
       "      <td>el bigdata en el campo médico , que integra la...</td>\n",
       "      <td>el bigdata en el campo médico que integra la i...</td>\n",
       "    </tr>\n",
       "  </tbody>\n",
       "</table>\n",
       "</div>"
      ],
      "text/plain": [
       "                                              oraciones  \\\n",
       "1090  el bigdata cruza todos los segmentos y especia...   \n",
       "1091  el bigdata de la argentina territorialmente po...   \n",
       "1092  el bigdata debe lograr obtener conocimiento de...   \n",
       "1093  el bigdata dejó de ser una tendencia para pasa...   \n",
       "1094  el bigdata en el campo médico , que integra la...   \n",
       "\n",
       "                                           review_clean  \n",
       "1090  el bigdata cruza todos los segmentos y especia...  \n",
       "1091  el bigdata de la argentina territorialmente po...  \n",
       "1092  el bigdata debe lograr obtener conocimiento de...  \n",
       "1093  el bigdata dejó de ser una tendencia para pasa...  \n",
       "1094  el bigdata en el campo médico que integra la i...  "
      ]
     },
     "execution_count": 27,
     "metadata": {},
     "output_type": "execute_result"
    }
   ],
   "source": [
    "# Visualizamos la nueva columna  \n",
    "\n",
    "dataset.head()"
   ]
  },
  {
   "cell_type": "code",
   "execution_count": 28,
   "metadata": {},
   "outputs": [],
   "source": [
    "# Creamos una nueva columna para la lemmatización sobre el texto recientemente pre-procesado\n",
    "\n",
    "dataset['review_lemm'] = dataset['review_clean'].apply(lambda x : lemmatizer(x))"
   ]
  },
  {
   "cell_type": "code",
   "execution_count": 29,
   "metadata": {},
   "outputs": [],
   "source": [
    "# Función para eliminar stopwords\n",
    "\n",
    "stop_words = set(stopwords.words(\"spanish\"))\n",
    "dataset['review_lemm'] = dataset['review_lemm'].apply(     lambda x: ' '.join([word for word in x.split() if word not in stop_words])     )"
   ]
  },
  {
   "cell_type": "code",
   "execution_count": 30,
   "metadata": {},
   "outputs": [
    {
     "data": {
      "text/html": [
       "<div>\n",
       "<style scoped>\n",
       "    .dataframe tbody tr th:only-of-type {\n",
       "        vertical-align: middle;\n",
       "    }\n",
       "\n",
       "    .dataframe tbody tr th {\n",
       "        vertical-align: top;\n",
       "    }\n",
       "\n",
       "    .dataframe thead th {\n",
       "        text-align: right;\n",
       "    }\n",
       "</style>\n",
       "<table border=\"1\" class=\"dataframe\">\n",
       "  <thead>\n",
       "    <tr style=\"text-align: right;\">\n",
       "      <th></th>\n",
       "      <th>oraciones</th>\n",
       "      <th>review_clean</th>\n",
       "      <th>review_lemm</th>\n",
       "    </tr>\n",
       "  </thead>\n",
       "  <tbody>\n",
       "    <tr>\n",
       "      <th>1090</th>\n",
       "      <td>el bigdata cruza todos los segmentos y especia...</td>\n",
       "      <td>el bigdata cruza todos los segmentos y especia...</td>\n",
       "      <td>bigdata cruzar segmento especialización si bie...</td>\n",
       "    </tr>\n",
       "    <tr>\n",
       "      <th>1091</th>\n",
       "      <td>el bigdata de la argentina territorialmente po...</td>\n",
       "      <td>el bigdata de la argentina territorialmente po...</td>\n",
       "      <td>bigdata argentina territorialmente político ec...</td>\n",
       "    </tr>\n",
       "    <tr>\n",
       "      <th>1092</th>\n",
       "      <td>el bigdata debe lograr obtener conocimiento de...</td>\n",
       "      <td>el bigdata debe lograr obtener conocimiento de...</td>\n",
       "      <td>bigdata deber lograr obtener conocimiento tsun...</td>\n",
       "    </tr>\n",
       "    <tr>\n",
       "      <th>1093</th>\n",
       "      <td>el bigdata dejó de ser una tendencia para pasa...</td>\n",
       "      <td>el bigdata dejó de ser una tendencia para pasa...</td>\n",
       "      <td>bigdata dejar ser tendencia pasar ser realidad...</td>\n",
       "    </tr>\n",
       "    <tr>\n",
       "      <th>1094</th>\n",
       "      <td>el bigdata en el campo médico , que integra la...</td>\n",
       "      <td>el bigdata en el campo médico que integra la i...</td>\n",
       "      <td>bigdata campo médico integrar información gené...</td>\n",
       "    </tr>\n",
       "  </tbody>\n",
       "</table>\n",
       "</div>"
      ],
      "text/plain": [
       "                                              oraciones  \\\n",
       "1090  el bigdata cruza todos los segmentos y especia...   \n",
       "1091  el bigdata de la argentina territorialmente po...   \n",
       "1092  el bigdata debe lograr obtener conocimiento de...   \n",
       "1093  el bigdata dejó de ser una tendencia para pasa...   \n",
       "1094  el bigdata en el campo médico , que integra la...   \n",
       "\n",
       "                                           review_clean  \\\n",
       "1090  el bigdata cruza todos los segmentos y especia...   \n",
       "1091  el bigdata de la argentina territorialmente po...   \n",
       "1092  el bigdata debe lograr obtener conocimiento de...   \n",
       "1093  el bigdata dejó de ser una tendencia para pasa...   \n",
       "1094  el bigdata en el campo médico que integra la i...   \n",
       "\n",
       "                                            review_lemm  \n",
       "1090  bigdata cruzar segmento especialización si bie...  \n",
       "1091  bigdata argentina territorialmente político ec...  \n",
       "1092  bigdata deber lograr obtener conocimiento tsun...  \n",
       "1093  bigdata dejar ser tendencia pasar ser realidad...  \n",
       "1094  bigdata campo médico integrar información gené...  "
      ]
     },
     "execution_count": 30,
     "metadata": {},
     "output_type": "execute_result"
    }
   ],
   "source": [
    "# Visualizamos la nueva columna lemmatizada\n",
    "\n",
    "dataset.head()"
   ]
  },
  {
   "cell_type": "markdown",
   "metadata": {},
   "source": [
    "## Vectorizado"
   ]
  },
  {
   "cell_type": "code",
   "execution_count": 31,
   "metadata": {},
   "outputs": [],
   "source": [
    "# Importamos librerías y creamos vectorizador\n",
    "\n",
    "from sklearn.feature_extraction.text import CountVectorizer\n",
    "from nltk.corpus import stopwords\n",
    "spacy_vec = CountVectorizer(stop_words=stopwords.words('spanish'), analyzer='word', max_features=300) # Importante determinar un número óptimo de max_features para optimizar rendimiento computacional \n",
    "\n",
    "# Se realizaron diferentes prubas de rendimiento respecto a los valores de max_features. Los mejores resultados los conseguimos en 300 "
   ]
  },
  {
   "cell_type": "code",
   "execution_count": 32,
   "metadata": {},
   "outputs": [],
   "source": [
    "# Transformamos los datos en bolsa de palabras\n",
    "\n",
    "count_data = spacy_vec.fit(dataset['review_lemm'])\n",
    "bag_of_words = spacy_vec.transform(dataset['review_lemm'])\n",
    "count_tokens = spacy_vec.get_feature_names()"
   ]
  },
  {
   "cell_type": "code",
   "execution_count": 33,
   "metadata": {},
   "outputs": [
    {
     "name": "stdout",
     "output_type": "stream",
     "text": [
      "Atributos:\n",
      "['acceso', 'actividad', 'además', 'adsbygoogle', 'ahora', 'algoritmo', 'alguno', 'analista', 'analizar', 'analytic', 'análisis', 'aplicación', 'aplicado', 'aplicar', 'aprender', 'argentina', 'argentino', 'artificial', 'así', 'ayudar', 'año', 'bajo', 'basado', 'base', 'bien', 'bigdata', 'bigdatar', 'bigdato', 'brindar', 'buen', 'buscar', 'cada', 'caja_mob', 'cambio', 'campaña', 'campo', 'cantidad', 'capacidad', 'caso', 'centro', 'ciencia', 'científico', 'ciudad', 'clave', 'cliente', 'cloud', 'comentario', 'comenzar', 'comercial', 'compañía', 'comportamiento', 'computación', 'computing', 'comunicación', 'concepto', 'conjunto', 'conocer', 'conocimiento', 'consumo', 'contar', 'contenido', 'convertir', 'cosa', 'crear', 'crecimiento', 'cualquiera', 'cuál', 'cómo', 'dar', 'datar', 'dato', 'deber', 'decir', 'decisión', 'dejar', 'dentro', 'desafío', 'desarrollar', 'desarrollo', 'destacar', 'detalle', 'digital', 'director', 'display', 'dispositivo', 'dos', 'día', 'economía', 'económico', 'edición', 'ejecutivo', 'ejemplo', 'embargo', 'empresa', 'encontrar', 'encuentro', 'encuesta', 'enorme', 'entender', 'epladm', 'epladmln', 'equipo', 'especialista', 'estrategia', 'estudio', 'existir', 'experiencia', 'experto', 'explicar', 'facebook', 'fenómeno', 'fin', 'firma', 'fjs', 'forma', 'foto', 'fuente', 'function', 'futuro', 'general', 'generar', 'gestión', 'global', 'gobierno', 'google', 'googletag', 'gracias', 'gran', 'grande', 'grupo', 'gustar', 'haber', 'hablar', 'hacer', 'hacia', 'herramienta', 'hoy', 'humano', 'id', 'idea', 'importante', 'incluir', 'industria', 'industrial', 'información', 'informática', 'informático', 'innovación', 'inteligencia', 'inteligencia_artificial', 'inteligente', 'internacional', 'internet', 'inversión', 'investigación', 'iot', 'ir', 'jornada', 'js', 'jujuy', 'learning', 'libro', 'llamado', 'llamar', 'llegar', 'llevar', 'lograr', 'luego', 'lugar', 'machine', 'manejar', 'manejo', 'manera', 'marketing', 'masivo', 'mayor', 'mediante', 'medio', 'mejor', 'mejorar', 'menos', 'mercadeo', 'mercado', 'millón', 'mismo', 'modelo', 'mundial', 'mundo', 'móvil', 'nacional', 'negocio', 'nivel', 'nota', 'nube', 'nuevo', 'objetivo', 'obtener', 'ofrecer', 'oportunidad', 'organización', 'parte', 'partir', 'pasar', 'país', 'perfil', 'permitir', 'persona', 'personal', 'plataforma', 'poder', 'política', 'político', 'poner', 'posibilidad', 'posible', 'predecir', 'predictivo', 'presentar', 'primero', 'principal', 'privado', 'problema', 'procesamiento', 'procesar', 'proceso', 'producto', 'profesional', 'programa', 'provincia', 'proyecto', 'próximo', 'punto', 'push', 'público', 'querer', 'real', 'realidad', 'realizar', 'recurso', 'red', 'redes_social', 'relacionado', 'relación', 'resultado', 'revolución', 'saber', 'salud', 'sector', 'seguir', 'seguridad', 'según', 'sensor', 'ser', 'servicio', 'si', 'sino', 'sistema', 'social', 'sociedad', 'software', 'solo', 'solución', 'sólo', 'tal', 'tecnología', 'tecnológico', 'tema', 'tendencia', 'tener', 'tiempo', 'tipo', 'tomar', 'trabajar', 'trabajo', 'tradicional', 'transformación', 'tratar', 'través', 'tres', 'twitter', 'técnica', 'término', 'universidad', 'usar', 'uso', 'usuario', 'utilización', 'utilizar', 'valor', 'venir', 'venta', 'ver', 'vez', 'video', 'virtual', 'volumen', 'web', 'área', 'éxito', 'último']\n"
     ]
    }
   ],
   "source": [
    "# Imprimimos las features\n",
    "\n",
    "print(\"Atributos:\\n{}\".format(spacy_vec.get_feature_names()))"
   ]
  },
  {
   "cell_type": "code",
   "execution_count": 34,
   "metadata": {},
   "outputs": [],
   "source": [
    "# Creamos un dataset para visualizar la bag of words como dataframe\n",
    "\n",
    "df_countvect = pd.DataFrame(data = bag_of_words.toarray(), columns = count_tokens)"
   ]
  },
  {
   "cell_type": "code",
   "execution_count": 35,
   "metadata": {},
   "outputs": [
    {
     "data": {
      "text/html": [
       "<div>\n",
       "<style scoped>\n",
       "    .dataframe tbody tr th:only-of-type {\n",
       "        vertical-align: middle;\n",
       "    }\n",
       "\n",
       "    .dataframe tbody tr th {\n",
       "        vertical-align: top;\n",
       "    }\n",
       "\n",
       "    .dataframe thead th {\n",
       "        text-align: right;\n",
       "    }\n",
       "</style>\n",
       "<table border=\"1\" class=\"dataframe\">\n",
       "  <thead>\n",
       "    <tr style=\"text-align: right;\">\n",
       "      <th></th>\n",
       "      <th>acceso</th>\n",
       "      <th>actividad</th>\n",
       "      <th>además</th>\n",
       "      <th>adsbygoogle</th>\n",
       "      <th>ahora</th>\n",
       "      <th>algoritmo</th>\n",
       "      <th>alguno</th>\n",
       "      <th>analista</th>\n",
       "      <th>analizar</th>\n",
       "      <th>analytic</th>\n",
       "      <th>...</th>\n",
       "      <th>venta</th>\n",
       "      <th>ver</th>\n",
       "      <th>vez</th>\n",
       "      <th>video</th>\n",
       "      <th>virtual</th>\n",
       "      <th>volumen</th>\n",
       "      <th>web</th>\n",
       "      <th>área</th>\n",
       "      <th>éxito</th>\n",
       "      <th>último</th>\n",
       "    </tr>\n",
       "  </thead>\n",
       "  <tbody>\n",
       "    <tr>\n",
       "      <th>0</th>\n",
       "      <td>0</td>\n",
       "      <td>0</td>\n",
       "      <td>0</td>\n",
       "      <td>0</td>\n",
       "      <td>0</td>\n",
       "      <td>0</td>\n",
       "      <td>0</td>\n",
       "      <td>0</td>\n",
       "      <td>0</td>\n",
       "      <td>0</td>\n",
       "      <td>...</td>\n",
       "      <td>0</td>\n",
       "      <td>0</td>\n",
       "      <td>0</td>\n",
       "      <td>0</td>\n",
       "      <td>0</td>\n",
       "      <td>0</td>\n",
       "      <td>0</td>\n",
       "      <td>0</td>\n",
       "      <td>0</td>\n",
       "      <td>0</td>\n",
       "    </tr>\n",
       "    <tr>\n",
       "      <th>1</th>\n",
       "      <td>0</td>\n",
       "      <td>0</td>\n",
       "      <td>0</td>\n",
       "      <td>0</td>\n",
       "      <td>0</td>\n",
       "      <td>0</td>\n",
       "      <td>0</td>\n",
       "      <td>0</td>\n",
       "      <td>0</td>\n",
       "      <td>0</td>\n",
       "      <td>...</td>\n",
       "      <td>0</td>\n",
       "      <td>0</td>\n",
       "      <td>0</td>\n",
       "      <td>0</td>\n",
       "      <td>0</td>\n",
       "      <td>0</td>\n",
       "      <td>0</td>\n",
       "      <td>0</td>\n",
       "      <td>0</td>\n",
       "      <td>0</td>\n",
       "    </tr>\n",
       "    <tr>\n",
       "      <th>2</th>\n",
       "      <td>0</td>\n",
       "      <td>0</td>\n",
       "      <td>0</td>\n",
       "      <td>0</td>\n",
       "      <td>0</td>\n",
       "      <td>0</td>\n",
       "      <td>0</td>\n",
       "      <td>0</td>\n",
       "      <td>0</td>\n",
       "      <td>0</td>\n",
       "      <td>...</td>\n",
       "      <td>0</td>\n",
       "      <td>0</td>\n",
       "      <td>0</td>\n",
       "      <td>0</td>\n",
       "      <td>0</td>\n",
       "      <td>0</td>\n",
       "      <td>0</td>\n",
       "      <td>0</td>\n",
       "      <td>0</td>\n",
       "      <td>0</td>\n",
       "    </tr>\n",
       "    <tr>\n",
       "      <th>3</th>\n",
       "      <td>0</td>\n",
       "      <td>0</td>\n",
       "      <td>0</td>\n",
       "      <td>0</td>\n",
       "      <td>0</td>\n",
       "      <td>0</td>\n",
       "      <td>0</td>\n",
       "      <td>0</td>\n",
       "      <td>0</td>\n",
       "      <td>0</td>\n",
       "      <td>...</td>\n",
       "      <td>0</td>\n",
       "      <td>0</td>\n",
       "      <td>1</td>\n",
       "      <td>0</td>\n",
       "      <td>0</td>\n",
       "      <td>0</td>\n",
       "      <td>0</td>\n",
       "      <td>0</td>\n",
       "      <td>0</td>\n",
       "      <td>0</td>\n",
       "    </tr>\n",
       "    <tr>\n",
       "      <th>4</th>\n",
       "      <td>0</td>\n",
       "      <td>0</td>\n",
       "      <td>0</td>\n",
       "      <td>0</td>\n",
       "      <td>0</td>\n",
       "      <td>0</td>\n",
       "      <td>0</td>\n",
       "      <td>0</td>\n",
       "      <td>0</td>\n",
       "      <td>0</td>\n",
       "      <td>...</td>\n",
       "      <td>0</td>\n",
       "      <td>0</td>\n",
       "      <td>1</td>\n",
       "      <td>0</td>\n",
       "      <td>0</td>\n",
       "      <td>0</td>\n",
       "      <td>0</td>\n",
       "      <td>0</td>\n",
       "      <td>0</td>\n",
       "      <td>0</td>\n",
       "    </tr>\n",
       "  </tbody>\n",
       "</table>\n",
       "<p>5 rows × 300 columns</p>\n",
       "</div>"
      ],
      "text/plain": [
       "   acceso  actividad  además  adsbygoogle  ahora  algoritmo  alguno  analista  \\\n",
       "0       0          0       0            0      0          0       0         0   \n",
       "1       0          0       0            0      0          0       0         0   \n",
       "2       0          0       0            0      0          0       0         0   \n",
       "3       0          0       0            0      0          0       0         0   \n",
       "4       0          0       0            0      0          0       0         0   \n",
       "\n",
       "   analizar  analytic  ...  venta  ver  vez  video  virtual  volumen  web  \\\n",
       "0         0         0  ...      0    0    0      0        0        0    0   \n",
       "1         0         0  ...      0    0    0      0        0        0    0   \n",
       "2         0         0  ...      0    0    0      0        0        0    0   \n",
       "3         0         0  ...      0    0    1      0        0        0    0   \n",
       "4         0         0  ...      0    0    1      0        0        0    0   \n",
       "\n",
       "   área  éxito  último  \n",
       "0     0      0       0  \n",
       "1     0      0       0  \n",
       "2     0      0       0  \n",
       "3     0      0       0  \n",
       "4     0      0       0  \n",
       "\n",
       "[5 rows x 300 columns]"
      ]
     },
     "execution_count": 35,
     "metadata": {},
     "output_type": "execute_result"
    }
   ],
   "source": [
    "# Visualizamos\n",
    "\n",
    "df_countvect.head()"
   ]
  },
  {
   "cell_type": "code",
   "execution_count": 36,
   "metadata": {},
   "outputs": [
    {
     "data": {
      "text/plain": [
       "(2308, 300)"
      ]
     },
     "execution_count": 36,
     "metadata": {},
     "output_type": "execute_result"
    }
   ],
   "source": [
    "# 2308 REGISTROS CON 300 COLUMNAS\n",
    "\n",
    "df_countvect.shape"
   ]
  },
  {
   "cell_type": "code",
   "execution_count": 37,
   "metadata": {
    "jupyter": {
     "source_hidden": true
    }
   },
   "outputs": [],
   "source": [
    "# Guardamos la matriz de datos en un archivo para ahorrrarnos el proceso de volver a ejecutarlo todo\n",
    "\n",
    "df_countvect.to_csv('vectorizado_04_A.csv')"
   ]
  },
  {
   "cell_type": "markdown",
   "metadata": {},
   "source": [
    "# Recuperación de modelos y datos de entrenamiento del proyecto anterior"
   ]
  },
  {
   "cell_type": "markdown",
   "metadata": {},
   "source": [
    "### `Recuperamos modelo entrenado en el proyecto anterior`"
   ]
  },
  {
   "cell_type": "code",
   "execution_count": 38,
   "metadata": {},
   "outputs": [],
   "source": [
    "# Recuperamos el MEJOR MODELO ENTRENADO en el proyecto anterior\n",
    "## Para ello eimportamos las librerías correspondientes\n",
    "\n",
    "##########################\n",
    "# SAVE-LOAD using joblib #\n",
    "##########################\n",
    "from joblib import dump, load"
   ]
  },
  {
   "cell_type": "code",
   "execution_count": 39,
   "metadata": {},
   "outputs": [],
   "source": [
    "# LOAD\n",
    "base_model = load('../nb.joblib')"
   ]
  },
  {
   "cell_type": "markdown",
   "metadata": {},
   "source": [
    "#### `Caracteristicas del modelo importado del proyecto anterior`"
   ]
  },
  {
   "cell_type": "markdown",
   "metadata": {},
   "source": [
    "<div style=\"padding: 10px 10px 10px 10px; color:black; background-color:lightgrey; text-align:left\">\n",
    "    <h4>Naive Bayes: Observaciones en rendimiento sobre muestras negativas</h4>\n",
    "    <p><i>Accuracy:  0.8606060606060606</i></p>\n",
    "    <p></p>\n",
    "    <ul>\n",
    "        <li> Hay que notar que de los 83 especímenes de muestras negativas, clasifica correctamente 76. 76/83.</li>\n",
    "        <li> Sólo 20/83 muestras negativas son auténticas (no-sintéticas) => 20 muestras originales + 63 sintéticamente generadas. </li>\n",
    "        <li> El algoritmo fue entranado con muestras sintéticas de oversampling.</li>\n",
    "        <li> Antes del oversampling, el modelo reconocía 9/20 muestras negativas correctamente</li>\n",
    "        <li> Con el entrenamiento oversampleado creció su eficacia, como decíamos, a un 76/83. Como puede observarse en la sigiente imagen. </li>\n",
    "        <li> Siendo del todo rigurosos, podríamos estiular como baseline a superar la siguiente demarcación: <strong></strong></li>\n",
    "        <ul><li>Vamos a hacer de cuenta de que no tenemos las 63 mmuestras generadas y que solo tenemos las 20 muestras originales de las que, como vemos en la imagen, son erróneamente clasificadas 7 muestras: </li>\n",
    "            <li>Estableceremos ese criterio como nuestro baseline a superar, donde tendríamos <strong> 20 muestras: 7 mal clasificadas y 13 correctamente clasificas.</strong></li>\n",
    "            <li><strong>Nuestro baseline a superar es del 65% en el reconocimiento de mestras negativas</strong></li>\n",
    "        </ul>\n",
    "    </ul>\n",
    "    <div>\n",
    "        <img src=\"cm.png\" style=\"padding-left:10%\">\n",
    "        <hr/>\n",
    "        <div>\n",
    "            <ul>\n",
    "                <li>Como dijimos, usaremos este modelo para buscar nuevas muestras negativas y ver si superamos el baseline indicado utilizando las nuevas muestras etiquetadas mediante la generación y entrenamiento de un nuevo modelo basado exclusivamente en datos no-sintéticos.</li>\n",
    "            </ul>\n",
    "        </div>\n",
    "    </div>\n",
    "</div>"
   ]
  },
  {
   "cell_type": "code",
   "execution_count": 40,
   "metadata": {},
   "outputs": [],
   "source": [
    "# Creamos las variables correspondientes para las instancias de entrenamiento \n",
    "\n",
    "x = df_countvect"
   ]
  },
  {
   "cell_type": "code",
   "execution_count": 41,
   "metadata": {},
   "outputs": [
    {
     "data": {
      "text/plain": [
       "(2308, 300)"
      ]
     },
     "execution_count": 41,
     "metadata": {},
     "output_type": "execute_result"
    }
   ],
   "source": [
    "# Corroboramos shape de la variable x\n",
    "\n",
    "x.shape"
   ]
  },
  {
   "cell_type": "code",
   "execution_count": 42,
   "metadata": {},
   "outputs": [
    {
     "data": {
      "text/plain": [
       "(1150, 300)"
      ]
     },
     "execution_count": 42,
     "metadata": {},
     "output_type": "execute_result"
    }
   ],
   "source": [
    "# Esta sería la regerencia a una mitad del total de muestras aún no clasificadas\n",
    "\n",
    "x1 = x.iloc[ :1150]\n",
    "x1.shape"
   ]
  },
  {
   "cell_type": "code",
   "execution_count": 43,
   "metadata": {},
   "outputs": [],
   "source": [
    "# Predicción sobre los nuevos datos \n",
    "\n",
    "base_pred = base_model.predict(x1)"
   ]
  },
  {
   "cell_type": "code",
   "execution_count": 44,
   "metadata": {},
   "outputs": [
    {
     "name": "stderr",
     "output_type": "stream",
     "text": [
      "C:\\ProgramData\\Anaconda3\\lib\\site-packages\\ipykernel_launcher.py:3: SettingWithCopyWarning: \n",
      "A value is trying to be set on a copy of a slice from a DataFrame.\n",
      "Try using .loc[row_indexer,col_indexer] = value instead\n",
      "\n",
      "See the caveats in the documentation: https://pandas.pydata.org/pandas-docs/stable/user_guide/indexing.html#returning-a-view-versus-a-copy\n",
      "  This is separate from the ipykernel package so we can avoid doing imports until\n"
     ]
    }
   ],
   "source": [
    "# Pasamos los resultados de la predicción a forma de dataset\n",
    "\n",
    "x1['estado']= base_pred"
   ]
  },
  {
   "cell_type": "code",
   "execution_count": 45,
   "metadata": {},
   "outputs": [
    {
     "data": {
      "text/html": [
       "<div>\n",
       "<style scoped>\n",
       "    .dataframe tbody tr th:only-of-type {\n",
       "        vertical-align: middle;\n",
       "    }\n",
       "\n",
       "    .dataframe tbody tr th {\n",
       "        vertical-align: top;\n",
       "    }\n",
       "\n",
       "    .dataframe thead th {\n",
       "        text-align: right;\n",
       "    }\n",
       "</style>\n",
       "<table border=\"1\" class=\"dataframe\">\n",
       "  <thead>\n",
       "    <tr style=\"text-align: right;\">\n",
       "      <th></th>\n",
       "      <th>acceso</th>\n",
       "      <th>actividad</th>\n",
       "      <th>además</th>\n",
       "      <th>adsbygoogle</th>\n",
       "      <th>ahora</th>\n",
       "      <th>algoritmo</th>\n",
       "      <th>alguno</th>\n",
       "      <th>analista</th>\n",
       "      <th>analizar</th>\n",
       "      <th>analytic</th>\n",
       "      <th>...</th>\n",
       "      <th>ver</th>\n",
       "      <th>vez</th>\n",
       "      <th>video</th>\n",
       "      <th>virtual</th>\n",
       "      <th>volumen</th>\n",
       "      <th>web</th>\n",
       "      <th>área</th>\n",
       "      <th>éxito</th>\n",
       "      <th>último</th>\n",
       "      <th>estado</th>\n",
       "    </tr>\n",
       "  </thead>\n",
       "  <tbody>\n",
       "    <tr>\n",
       "      <th>0</th>\n",
       "      <td>0</td>\n",
       "      <td>0</td>\n",
       "      <td>0</td>\n",
       "      <td>0</td>\n",
       "      <td>0</td>\n",
       "      <td>0</td>\n",
       "      <td>0</td>\n",
       "      <td>0</td>\n",
       "      <td>0</td>\n",
       "      <td>0</td>\n",
       "      <td>...</td>\n",
       "      <td>0</td>\n",
       "      <td>0</td>\n",
       "      <td>0</td>\n",
       "      <td>0</td>\n",
       "      <td>0</td>\n",
       "      <td>0</td>\n",
       "      <td>0</td>\n",
       "      <td>0</td>\n",
       "      <td>0</td>\n",
       "      <td>positivo</td>\n",
       "    </tr>\n",
       "    <tr>\n",
       "      <th>1</th>\n",
       "      <td>0</td>\n",
       "      <td>0</td>\n",
       "      <td>0</td>\n",
       "      <td>0</td>\n",
       "      <td>0</td>\n",
       "      <td>0</td>\n",
       "      <td>0</td>\n",
       "      <td>0</td>\n",
       "      <td>0</td>\n",
       "      <td>0</td>\n",
       "      <td>...</td>\n",
       "      <td>0</td>\n",
       "      <td>0</td>\n",
       "      <td>0</td>\n",
       "      <td>0</td>\n",
       "      <td>0</td>\n",
       "      <td>0</td>\n",
       "      <td>0</td>\n",
       "      <td>0</td>\n",
       "      <td>0</td>\n",
       "      <td>positivo</td>\n",
       "    </tr>\n",
       "    <tr>\n",
       "      <th>2</th>\n",
       "      <td>0</td>\n",
       "      <td>0</td>\n",
       "      <td>0</td>\n",
       "      <td>0</td>\n",
       "      <td>0</td>\n",
       "      <td>0</td>\n",
       "      <td>0</td>\n",
       "      <td>0</td>\n",
       "      <td>0</td>\n",
       "      <td>0</td>\n",
       "      <td>...</td>\n",
       "      <td>0</td>\n",
       "      <td>0</td>\n",
       "      <td>0</td>\n",
       "      <td>0</td>\n",
       "      <td>0</td>\n",
       "      <td>0</td>\n",
       "      <td>0</td>\n",
       "      <td>0</td>\n",
       "      <td>0</td>\n",
       "      <td>positivo</td>\n",
       "    </tr>\n",
       "    <tr>\n",
       "      <th>3</th>\n",
       "      <td>0</td>\n",
       "      <td>0</td>\n",
       "      <td>0</td>\n",
       "      <td>0</td>\n",
       "      <td>0</td>\n",
       "      <td>0</td>\n",
       "      <td>0</td>\n",
       "      <td>0</td>\n",
       "      <td>0</td>\n",
       "      <td>0</td>\n",
       "      <td>...</td>\n",
       "      <td>0</td>\n",
       "      <td>1</td>\n",
       "      <td>0</td>\n",
       "      <td>0</td>\n",
       "      <td>0</td>\n",
       "      <td>0</td>\n",
       "      <td>0</td>\n",
       "      <td>0</td>\n",
       "      <td>0</td>\n",
       "      <td>positivo</td>\n",
       "    </tr>\n",
       "    <tr>\n",
       "      <th>4</th>\n",
       "      <td>0</td>\n",
       "      <td>0</td>\n",
       "      <td>0</td>\n",
       "      <td>0</td>\n",
       "      <td>0</td>\n",
       "      <td>0</td>\n",
       "      <td>0</td>\n",
       "      <td>0</td>\n",
       "      <td>0</td>\n",
       "      <td>0</td>\n",
       "      <td>...</td>\n",
       "      <td>0</td>\n",
       "      <td>1</td>\n",
       "      <td>0</td>\n",
       "      <td>0</td>\n",
       "      <td>0</td>\n",
       "      <td>0</td>\n",
       "      <td>0</td>\n",
       "      <td>0</td>\n",
       "      <td>0</td>\n",
       "      <td>positivo</td>\n",
       "    </tr>\n",
       "  </tbody>\n",
       "</table>\n",
       "<p>5 rows × 301 columns</p>\n",
       "</div>"
      ],
      "text/plain": [
       "   acceso  actividad  además  adsbygoogle  ahora  algoritmo  alguno  analista  \\\n",
       "0       0          0       0            0      0          0       0         0   \n",
       "1       0          0       0            0      0          0       0         0   \n",
       "2       0          0       0            0      0          0       0         0   \n",
       "3       0          0       0            0      0          0       0         0   \n",
       "4       0          0       0            0      0          0       0         0   \n",
       "\n",
       "   analizar  analytic  ...  ver  vez  video  virtual  volumen  web  área  \\\n",
       "0         0         0  ...    0    0      0        0        0    0     0   \n",
       "1         0         0  ...    0    0      0        0        0    0     0   \n",
       "2         0         0  ...    0    0      0        0        0    0     0   \n",
       "3         0         0  ...    0    1      0        0        0    0     0   \n",
       "4         0         0  ...    0    1      0        0        0    0     0   \n",
       "\n",
       "   éxito  último    estado  \n",
       "0      0       0  positivo  \n",
       "1      0       0  positivo  \n",
       "2      0       0  positivo  \n",
       "3      0       0  positivo  \n",
       "4      0       0  positivo  \n",
       "\n",
       "[5 rows x 301 columns]"
      ]
     },
     "execution_count": 45,
     "metadata": {},
     "output_type": "execute_result"
    }
   ],
   "source": [
    "# Visualizamos en forma de dataset la conjunción de x e y predicha (en columna 'estado')\n",
    "\n",
    "x1.head()"
   ]
  },
  {
   "cell_type": "code",
   "execution_count": 46,
   "metadata": {},
   "outputs": [
    {
     "data": {
      "text/plain": [
       "Text(0.5, 1.0, '')"
      ]
     },
     "execution_count": 46,
     "metadata": {},
     "output_type": "execute_result"
    },
    {
     "data": {
      "image/png": "[encoded data removed]",
      "text/plain": [
       "<Figure size 432x288 with 1 Axes>"
      ]
     },
     "metadata": {},
     "output_type": "display_data"
    }
   ],
   "source": [
    "# Observamos distribución de muestras clasificadas en las 2 etiquetas elegidas: positivas o negativas \n",
    "\n",
    "sns.countplot(x1['estado']).set_title('', size=22)"
   ]
  },
  {
   "cell_type": "markdown",
   "metadata": {},
   "source": [
    "<div style=\"padding: 10px 10px 10px 10px; color:black; background-color:lightgrey; text-align:left\">\n",
    "    <h4>Observaciones respecto a la distribución de la predicción</h4>\n",
    "    <p>En el dataset anterior origianl tuvimos la misma proporción de muestras en una relación de 4 : 1 </p>\n",
    "    <p>Por eso procedimos en su momento a una estrategia de oversampleado, para compensar la falta de muestras negativas</p>\n",
    "    <p>Repito, por eso, que el objetivo de este proyecto es incoprorar nuevas muestras negativas al dataset de entrenamiento de modelos para no depender de los sineticos. </p>\n",
    "</div>"
   ]
  },
  {
   "cell_type": "markdown",
   "metadata": {},
   "source": [
    "### `Creamos un nuevo dataframe para el entrenamiento de nuevos modelos`"
   ]
  },
  {
   "cell_type": "code",
   "execution_count": 47,
   "metadata": {},
   "outputs": [
    {
     "data": {
      "text/plain": [
       "(223, 301)"
      ]
     },
     "execution_count": 47,
     "metadata": {},
     "output_type": "execute_result"
    }
   ],
   "source": [
    "# Creamos un nuevo dataframe con las muestras negativas obtenidas \n",
    "\n",
    "new_cases = x1[(x1['estado'] == 'negativo')]\n",
    "new_cases.shape"
   ]
  },
  {
   "cell_type": "code",
   "execution_count": 48,
   "metadata": {},
   "outputs": [
    {
     "name": "stdout",
     "output_type": "stream",
     "text": [
      "(223, 1)\n"
     ]
    },
    {
     "data": {
      "text/html": [
       "<div>\n",
       "<style scoped>\n",
       "    .dataframe tbody tr th:only-of-type {\n",
       "        vertical-align: middle;\n",
       "    }\n",
       "\n",
       "    .dataframe tbody tr th {\n",
       "        vertical-align: top;\n",
       "    }\n",
       "\n",
       "    .dataframe thead th {\n",
       "        text-align: right;\n",
       "    }\n",
       "</style>\n",
       "<table border=\"1\" class=\"dataframe\">\n",
       "  <thead>\n",
       "    <tr style=\"text-align: right;\">\n",
       "      <th></th>\n",
       "      <th>estado</th>\n",
       "    </tr>\n",
       "  </thead>\n",
       "  <tbody>\n",
       "    <tr>\n",
       "      <th>9</th>\n",
       "      <td>negativo</td>\n",
       "    </tr>\n",
       "    <tr>\n",
       "      <th>11</th>\n",
       "      <td>negativo</td>\n",
       "    </tr>\n",
       "    <tr>\n",
       "      <th>13</th>\n",
       "      <td>negativo</td>\n",
       "    </tr>\n",
       "    <tr>\n",
       "      <th>16</th>\n",
       "      <td>negativo</td>\n",
       "    </tr>\n",
       "    <tr>\n",
       "      <th>24</th>\n",
       "      <td>negativo</td>\n",
       "    </tr>\n",
       "  </tbody>\n",
       "</table>\n",
       "</div>"
      ],
      "text/plain": [
       "      estado\n",
       "9   negativo\n",
       "11  negativo\n",
       "13  negativo\n",
       "16  negativo\n",
       "24  negativo"
      ]
     },
     "execution_count": 48,
     "metadata": {},
     "output_type": "execute_result"
    }
   ],
   "source": [
    "# Nos quedamos sólo con los index y la columna estado creando una nueva variable de dataframe\n",
    "# Visualizamos el resultado de la operación \n",
    "\n",
    "aux = pd.DataFrame()\n",
    "aux['estado'] = new_cases['estado']\n",
    "print(aux.shape)\n",
    "aux.head(5)"
   ]
  },
  {
   "cell_type": "code",
   "execution_count": 49,
   "metadata": {},
   "outputs": [
    {
     "name": "stdout",
     "output_type": "stream",
     "text": [
      "(223, 3)\n"
     ]
    },
    {
     "data": {
      "text/html": [
       "<div>\n",
       "<style scoped>\n",
       "    .dataframe tbody tr th:only-of-type {\n",
       "        vertical-align: middle;\n",
       "    }\n",
       "\n",
       "    .dataframe tbody tr th {\n",
       "        vertical-align: top;\n",
       "    }\n",
       "\n",
       "    .dataframe thead th {\n",
       "        text-align: right;\n",
       "    }\n",
       "</style>\n",
       "<table border=\"1\" class=\"dataframe\">\n",
       "  <thead>\n",
       "    <tr style=\"text-align: right;\">\n",
       "      <th></th>\n",
       "      <th>oraciones</th>\n",
       "      <th>review_clean</th>\n",
       "      <th>review_lemm</th>\n",
       "    </tr>\n",
       "  </thead>\n",
       "  <tbody>\n",
       "    <tr>\n",
       "      <th>1099</th>\n",
       "      <td>el bigdata es el último paradigma del deporte ...</td>\n",
       "      <td>el bigdata es el último paradigma del deporte ...</td>\n",
       "      <td>bigdata ser último paradigma deporte llegar re...</td>\n",
       "    </tr>\n",
       "    <tr>\n",
       "      <th>1101</th>\n",
       "      <td>el bigdata es la base de operaciones para deci...</td>\n",
       "      <td>el bigdata es la base de operaciones para deci...</td>\n",
       "      <td>bigdata ser base operación decidir serie conti...</td>\n",
       "    </tr>\n",
       "    <tr>\n",
       "      <th>1103</th>\n",
       "      <td>el bigdata es tan útil para las empresas porqu...</td>\n",
       "      <td>el bigdata es tan útil para las empresas porqu...</td>\n",
       "      <td>bigdata ser útil empresa funcionar punto refer...</td>\n",
       "    </tr>\n",
       "    <tr>\n",
       "      <th>1106</th>\n",
       "      <td>el bigdata está sobrevalorado ' , le dijo dona...</td>\n",
       "      <td>el bigdata está sobrevalorado le dijo donald t...</td>\n",
       "      <td>bigdata sobrevalorado decir donald trump the a...</td>\n",
       "    </tr>\n",
       "    <tr>\n",
       "      <th>1114</th>\n",
       "      <td>el bigdata o dataísmo , nombre de su novedosa ...</td>\n",
       "      <td>el bigdata o dataísmo nombre de su novedosa me...</td>\n",
       "      <td>bigdata dataísmo nombre novedoso metodología t...</td>\n",
       "    </tr>\n",
       "  </tbody>\n",
       "</table>\n",
       "</div>"
      ],
      "text/plain": [
       "                                              oraciones  \\\n",
       "1099  el bigdata es el último paradigma del deporte ...   \n",
       "1101  el bigdata es la base de operaciones para deci...   \n",
       "1103  el bigdata es tan útil para las empresas porqu...   \n",
       "1106  el bigdata está sobrevalorado ' , le dijo dona...   \n",
       "1114  el bigdata o dataísmo , nombre de su novedosa ...   \n",
       "\n",
       "                                           review_clean  \\\n",
       "1099  el bigdata es el último paradigma del deporte ...   \n",
       "1101  el bigdata es la base de operaciones para deci...   \n",
       "1103  el bigdata es tan útil para las empresas porqu...   \n",
       "1106  el bigdata está sobrevalorado le dijo donald t...   \n",
       "1114  el bigdata o dataísmo nombre de su novedosa me...   \n",
       "\n",
       "                                            review_lemm  \n",
       "1099  bigdata ser último paradigma deporte llegar re...  \n",
       "1101  bigdata ser base operación decidir serie conti...  \n",
       "1103  bigdata ser útil empresa funcionar punto refer...  \n",
       "1106  bigdata sobrevalorado decir donald trump the a...  \n",
       "1114  bigdata dataísmo nombre novedoso metodología t...  "
      ]
     },
     "execution_count": 49,
     "metadata": {},
     "output_type": "execute_result"
    }
   ],
   "source": [
    "# Tomamos finalmente del dataset pre-procesado hasta antes de la vectorización las muestras que luego clasificamos como negativas\n",
    "\n",
    "combined = dataset.iloc[aux.index]\n",
    "print(combined.shape)\n",
    "combined.head()"
   ]
  },
  {
   "cell_type": "code",
   "execution_count": 50,
   "metadata": {},
   "outputs": [
    {
     "name": "stderr",
     "output_type": "stream",
     "text": [
      "C:\\ProgramData\\Anaconda3\\lib\\site-packages\\ipykernel_launcher.py:3: SettingWithCopyWarning: \n",
      "A value is trying to be set on a copy of a slice from a DataFrame.\n",
      "Try using .loc[row_indexer,col_indexer] = value instead\n",
      "\n",
      "See the caveats in the documentation: https://pandas.pydata.org/pandas-docs/stable/user_guide/indexing.html#returning-a-view-versus-a-copy\n",
      "  This is separate from the ipykernel package so we can avoid doing imports until\n"
     ]
    }
   ],
   "source": [
    "# Agregamos el valor correspondiente de \"negativo\" en la columna de estado\n",
    "\n",
    "combined['estado'] = 'negativo'"
   ]
  },
  {
   "cell_type": "code",
   "execution_count": 51,
   "metadata": {},
   "outputs": [
    {
     "data": {
      "text/html": [
       "<div>\n",
       "<style scoped>\n",
       "    .dataframe tbody tr th:only-of-type {\n",
       "        vertical-align: middle;\n",
       "    }\n",
       "\n",
       "    .dataframe tbody tr th {\n",
       "        vertical-align: top;\n",
       "    }\n",
       "\n",
       "    .dataframe thead th {\n",
       "        text-align: right;\n",
       "    }\n",
       "</style>\n",
       "<table border=\"1\" class=\"dataframe\">\n",
       "  <thead>\n",
       "    <tr style=\"text-align: right;\">\n",
       "      <th></th>\n",
       "      <th>oraciones</th>\n",
       "      <th>review_clean</th>\n",
       "      <th>review_lemm</th>\n",
       "      <th>estado</th>\n",
       "    </tr>\n",
       "  </thead>\n",
       "  <tbody>\n",
       "    <tr>\n",
       "      <th>1099</th>\n",
       "      <td>el bigdata es el último paradigma del deporte ...</td>\n",
       "      <td>el bigdata es el último paradigma del deporte ...</td>\n",
       "      <td>bigdata ser último paradigma deporte llegar re...</td>\n",
       "      <td>negativo</td>\n",
       "    </tr>\n",
       "    <tr>\n",
       "      <th>1101</th>\n",
       "      <td>el bigdata es la base de operaciones para deci...</td>\n",
       "      <td>el bigdata es la base de operaciones para deci...</td>\n",
       "      <td>bigdata ser base operación decidir serie conti...</td>\n",
       "      <td>negativo</td>\n",
       "    </tr>\n",
       "    <tr>\n",
       "      <th>1103</th>\n",
       "      <td>el bigdata es tan útil para las empresas porqu...</td>\n",
       "      <td>el bigdata es tan útil para las empresas porqu...</td>\n",
       "      <td>bigdata ser útil empresa funcionar punto refer...</td>\n",
       "      <td>negativo</td>\n",
       "    </tr>\n",
       "    <tr>\n",
       "      <th>1106</th>\n",
       "      <td>el bigdata está sobrevalorado ' , le dijo dona...</td>\n",
       "      <td>el bigdata está sobrevalorado le dijo donald t...</td>\n",
       "      <td>bigdata sobrevalorado decir donald trump the a...</td>\n",
       "      <td>negativo</td>\n",
       "    </tr>\n",
       "    <tr>\n",
       "      <th>1114</th>\n",
       "      <td>el bigdata o dataísmo , nombre de su novedosa ...</td>\n",
       "      <td>el bigdata o dataísmo nombre de su novedosa me...</td>\n",
       "      <td>bigdata dataísmo nombre novedoso metodología t...</td>\n",
       "      <td>negativo</td>\n",
       "    </tr>\n",
       "  </tbody>\n",
       "</table>\n",
       "</div>"
      ],
      "text/plain": [
       "                                              oraciones  \\\n",
       "1099  el bigdata es el último paradigma del deporte ...   \n",
       "1101  el bigdata es la base de operaciones para deci...   \n",
       "1103  el bigdata es tan útil para las empresas porqu...   \n",
       "1106  el bigdata está sobrevalorado ' , le dijo dona...   \n",
       "1114  el bigdata o dataísmo , nombre de su novedosa ...   \n",
       "\n",
       "                                           review_clean  \\\n",
       "1099  el bigdata es el último paradigma del deporte ...   \n",
       "1101  el bigdata es la base de operaciones para deci...   \n",
       "1103  el bigdata es tan útil para las empresas porqu...   \n",
       "1106  el bigdata está sobrevalorado le dijo donald t...   \n",
       "1114  el bigdata o dataísmo nombre de su novedosa me...   \n",
       "\n",
       "                                            review_lemm    estado  \n",
       "1099  bigdata ser último paradigma deporte llegar re...  negativo  \n",
       "1101  bigdata ser base operación decidir serie conti...  negativo  \n",
       "1103  bigdata ser útil empresa funcionar punto refer...  negativo  \n",
       "1106  bigdata sobrevalorado decir donald trump the a...  negativo  \n",
       "1114  bigdata dataísmo nombre novedoso metodología t...  negativo  "
      ]
     },
     "execution_count": 51,
     "metadata": {},
     "output_type": "execute_result"
    }
   ],
   "source": [
    "# Visualizamos una vez más para corroborar\n",
    "\n",
    "combined.head()"
   ]
  },
  {
   "cell_type": "markdown",
   "metadata": {},
   "source": [
    "### `Recuperamos los datos de entrenamiento del proyecto/modelo anterior`"
   ]
  },
  {
   "cell_type": "code",
   "execution_count": 52,
   "metadata": {},
   "outputs": [],
   "source": [
    "# Tomamos los datos de entrenamiento del modelo/proyecto anterior\n",
    "\n",
    "base_df = pd.read_csv('../base_df.csv')"
   ]
  },
  {
   "cell_type": "code",
   "execution_count": 53,
   "metadata": {},
   "outputs": [
    {
     "name": "stdout",
     "output_type": "stream",
     "text": [
      "(511, 6)\n"
     ]
    },
    {
     "data": {
      "text/html": [
       "<div>\n",
       "<style scoped>\n",
       "    .dataframe tbody tr th:only-of-type {\n",
       "        vertical-align: middle;\n",
       "    }\n",
       "\n",
       "    .dataframe tbody tr th {\n",
       "        vertical-align: top;\n",
       "    }\n",
       "\n",
       "    .dataframe thead th {\n",
       "        text-align: right;\n",
       "    }\n",
       "</style>\n",
       "<table border=\"1\" class=\"dataframe\">\n",
       "  <thead>\n",
       "    <tr style=\"text-align: right;\">\n",
       "      <th></th>\n",
       "      <th>Unnamed: 0</th>\n",
       "      <th>estado</th>\n",
       "      <th>id</th>\n",
       "      <th>oracion</th>\n",
       "      <th>review_clean</th>\n",
       "      <th>review_lemm</th>\n",
       "    </tr>\n",
       "  </thead>\n",
       "  <tbody>\n",
       "    <tr>\n",
       "      <th>0</th>\n",
       "      <td>0</td>\n",
       "      <td>positivo</td>\n",
       "      <td>0</td>\n",
       "      <td>' ( el bigdata ) es una forma que guizhou usó ...</td>\n",
       "      <td>el bigdata es una forma que guizhou usó para ...</td>\n",
       "      <td>el bigdata ser uno forma que guizhou usar pa...</td>\n",
       "    </tr>\n",
       "    <tr>\n",
       "      <th>1</th>\n",
       "      <td>1</td>\n",
       "      <td>positivo</td>\n",
       "      <td>4</td>\n",
       "      <td>' a la variedad , volumen y veracidad de infor...</td>\n",
       "      <td>a la variedad volumen y veracidad de informac...</td>\n",
       "      <td>a el variedad volumen y veracidad de informa...</td>\n",
       "    </tr>\n",
       "    <tr>\n",
       "      <th>2</th>\n",
       "      <td>2</td>\n",
       "      <td>positivo</td>\n",
       "      <td>5</td>\n",
       "      <td>' a la variedad , volumen y veracidad de infor...</td>\n",
       "      <td>a la variedad volumen y veracidad de informac...</td>\n",
       "      <td>a el variedad volumen y veracidad de informa...</td>\n",
       "    </tr>\n",
       "    <tr>\n",
       "      <th>3</th>\n",
       "      <td>3</td>\n",
       "      <td>positivo</td>\n",
       "      <td>6</td>\n",
       "      <td>' a medida que florezca la industria nacional ...</td>\n",
       "      <td>a medida que florezca la industria nacional d...</td>\n",
       "      <td>a medida que florecer el industria nacional ...</td>\n",
       "    </tr>\n",
       "    <tr>\n",
       "      <th>4</th>\n",
       "      <td>4</td>\n",
       "      <td>positivo</td>\n",
       "      <td>10</td>\n",
       "      <td>' además , esta información también puede ser ...</td>\n",
       "      <td>además esta información también puede ser de ...</td>\n",
       "      <td>además este información también poder ser de...</td>\n",
       "    </tr>\n",
       "  </tbody>\n",
       "</table>\n",
       "</div>"
      ],
      "text/plain": [
       "   Unnamed: 0    estado  id  \\\n",
       "0           0  positivo   0   \n",
       "1           1  positivo   4   \n",
       "2           2  positivo   5   \n",
       "3           3  positivo   6   \n",
       "4           4  positivo  10   \n",
       "\n",
       "                                             oracion  \\\n",
       "0  ' ( el bigdata ) es una forma que guizhou usó ...   \n",
       "1  ' a la variedad , volumen y veracidad de infor...   \n",
       "2  ' a la variedad , volumen y veracidad de infor...   \n",
       "3  ' a medida que florezca la industria nacional ...   \n",
       "4  ' además , esta información también puede ser ...   \n",
       "\n",
       "                                        review_clean  \\\n",
       "0   el bigdata es una forma que guizhou usó para ...   \n",
       "1   a la variedad volumen y veracidad de informac...   \n",
       "2   a la variedad volumen y veracidad de informac...   \n",
       "3   a medida que florezca la industria nacional d...   \n",
       "4   además esta información también puede ser de ...   \n",
       "\n",
       "                                         review_lemm  \n",
       "0    el bigdata ser uno forma que guizhou usar pa...  \n",
       "1    a el variedad volumen y veracidad de informa...  \n",
       "2    a el variedad volumen y veracidad de informa...  \n",
       "3    a medida que florecer el industria nacional ...  \n",
       "4    además este información también poder ser de...  "
      ]
     },
     "execution_count": 53,
     "metadata": {},
     "output_type": "execute_result"
    }
   ],
   "source": [
    "# Visualizamos los datos\n",
    "\n",
    "print(base_df.shape)\n",
    "base_df.head()"
   ]
  },
  {
   "cell_type": "code",
   "execution_count": 54,
   "metadata": {},
   "outputs": [],
   "source": [
    "# Eliminamos columnas innecesarias \n",
    "\n",
    "base_df.drop(['Unnamed: 0', 'id'], axis=1, inplace=True)"
   ]
  },
  {
   "cell_type": "code",
   "execution_count": 55,
   "metadata": {
    "jupyter": {
     "source_hidden": true
    }
   },
   "outputs": [
    {
     "data": {
      "text/plain": [
       "<WordListCorpusReader in 'C:\\\\Users\\\\juanp\\\\AppData\\\\Roaming\\\\nltk_data\\\\corpora\\\\stopwords'>"
      ]
     },
     "execution_count": 55,
     "metadata": {},
     "output_type": "execute_result"
    }
   ],
   "source": [
    "stopwords"
   ]
  },
  {
   "cell_type": "code",
   "execution_count": 56,
   "metadata": {},
   "outputs": [],
   "source": [
    "# Función para eliminar stopwords\n",
    "\n",
    "stopwords = nltk.corpus.stopwords.words('spanish')\n",
    "base_df['review_lemm'] = base_df['review_lemm'].apply(     lambda x: ' '.join([word for word in x.split() if word not in stopwords])     )"
   ]
  },
  {
   "cell_type": "code",
   "execution_count": 57,
   "metadata": {},
   "outputs": [
    {
     "data": {
      "text/html": [
       "<div>\n",
       "<style scoped>\n",
       "    .dataframe tbody tr th:only-of-type {\n",
       "        vertical-align: middle;\n",
       "    }\n",
       "\n",
       "    .dataframe tbody tr th {\n",
       "        vertical-align: top;\n",
       "    }\n",
       "\n",
       "    .dataframe thead th {\n",
       "        text-align: right;\n",
       "    }\n",
       "</style>\n",
       "<table border=\"1\" class=\"dataframe\">\n",
       "  <thead>\n",
       "    <tr style=\"text-align: right;\">\n",
       "      <th></th>\n",
       "      <th>estado</th>\n",
       "      <th>oracion</th>\n",
       "      <th>review_clean</th>\n",
       "      <th>review_lemm</th>\n",
       "    </tr>\n",
       "  </thead>\n",
       "  <tbody>\n",
       "    <tr>\n",
       "      <th>0</th>\n",
       "      <td>positivo</td>\n",
       "      <td>' ( el bigdata ) es una forma que guizhou usó ...</td>\n",
       "      <td>el bigdata es una forma que guizhou usó para ...</td>\n",
       "      <td>bigdata ser forma guizhou usar bajar pobreza</td>\n",
       "    </tr>\n",
       "    <tr>\n",
       "      <th>1</th>\n",
       "      <td>positivo</td>\n",
       "      <td>' a la variedad , volumen y veracidad de infor...</td>\n",
       "      <td>a la variedad volumen y veracidad de informac...</td>\n",
       "      <td>variedad volumen veracidad información proveer...</td>\n",
       "    </tr>\n",
       "    <tr>\n",
       "      <th>2</th>\n",
       "      <td>positivo</td>\n",
       "      <td>' a la variedad , volumen y veracidad de infor...</td>\n",
       "      <td>a la variedad volumen y veracidad de informac...</td>\n",
       "      <td>variedad volumen veracidad información proveer...</td>\n",
       "    </tr>\n",
       "    <tr>\n",
       "      <th>3</th>\n",
       "      <td>positivo</td>\n",
       "      <td>' a medida que florezca la industria nacional ...</td>\n",
       "      <td>a medida que florezca la industria nacional d...</td>\n",
       "      <td>medida florecer industria nacional internet co...</td>\n",
       "    </tr>\n",
       "    <tr>\n",
       "      <th>4</th>\n",
       "      <td>positivo</td>\n",
       "      <td>' además , esta información también puede ser ...</td>\n",
       "      <td>además esta información también puede ser de ...</td>\n",
       "      <td>además información poder ser utilidad estudio ...</td>\n",
       "    </tr>\n",
       "  </tbody>\n",
       "</table>\n",
       "</div>"
      ],
      "text/plain": [
       "     estado                                            oracion  \\\n",
       "0  positivo  ' ( el bigdata ) es una forma que guizhou usó ...   \n",
       "1  positivo  ' a la variedad , volumen y veracidad de infor...   \n",
       "2  positivo  ' a la variedad , volumen y veracidad de infor...   \n",
       "3  positivo  ' a medida que florezca la industria nacional ...   \n",
       "4  positivo  ' además , esta información también puede ser ...   \n",
       "\n",
       "                                        review_clean  \\\n",
       "0   el bigdata es una forma que guizhou usó para ...   \n",
       "1   a la variedad volumen y veracidad de informac...   \n",
       "2   a la variedad volumen y veracidad de informac...   \n",
       "3   a medida que florezca la industria nacional d...   \n",
       "4   además esta información también puede ser de ...   \n",
       "\n",
       "                                         review_lemm  \n",
       "0       bigdata ser forma guizhou usar bajar pobreza  \n",
       "1  variedad volumen veracidad información proveer...  \n",
       "2  variedad volumen veracidad información proveer...  \n",
       "3  medida florecer industria nacional internet co...  \n",
       "4  además información poder ser utilidad estudio ...  "
      ]
     },
     "execution_count": 57,
     "metadata": {},
     "output_type": "execute_result"
    }
   ],
   "source": [
    "# Visualizamos nuevamente \n",
    "\n",
    "base_df.head()"
   ]
  },
  {
   "cell_type": "code",
   "execution_count": 58,
   "metadata": {},
   "outputs": [
    {
     "name": "stderr",
     "output_type": "stream",
     "text": [
      "C:\\ProgramData\\Anaconda3\\lib\\site-packages\\pandas\\core\\frame.py:4446: SettingWithCopyWarning: \n",
      "A value is trying to be set on a copy of a slice from a DataFrame\n",
      "\n",
      "See the caveats in the documentation: https://pandas.pydata.org/pandas-docs/stable/user_guide/indexing.html#returning-a-view-versus-a-copy\n",
      "  errors=errors,\n"
     ]
    }
   ],
   "source": [
    "# Igualamos en nombre de las columnas entre ambos datasets \n",
    "\n",
    "combined.rename(columns = {'oraciones':'oracion'}, inplace = True) "
   ]
  },
  {
   "cell_type": "code",
   "execution_count": 59,
   "metadata": {},
   "outputs": [
    {
     "data": {
      "text/html": [
       "<div>\n",
       "<style scoped>\n",
       "    .dataframe tbody tr th:only-of-type {\n",
       "        vertical-align: middle;\n",
       "    }\n",
       "\n",
       "    .dataframe tbody tr th {\n",
       "        vertical-align: top;\n",
       "    }\n",
       "\n",
       "    .dataframe thead th {\n",
       "        text-align: right;\n",
       "    }\n",
       "</style>\n",
       "<table border=\"1\" class=\"dataframe\">\n",
       "  <thead>\n",
       "    <tr style=\"text-align: right;\">\n",
       "      <th></th>\n",
       "      <th>oracion</th>\n",
       "      <th>review_clean</th>\n",
       "      <th>review_lemm</th>\n",
       "      <th>estado</th>\n",
       "    </tr>\n",
       "  </thead>\n",
       "  <tbody>\n",
       "    <tr>\n",
       "      <th>2225</th>\n",
       "      <td>la empresa fue incorporada al holding de monsa...</td>\n",
       "      <td>la empresa fue incorporada al holding de monsa...</td>\n",
       "      <td>empresa ser incorporar holding monsanto trabaj...</td>\n",
       "      <td>negativo</td>\n",
       "    </tr>\n",
       "    <tr>\n",
       "      <th>2229</th>\n",
       "      <td>la empresa social live , dedicada al análisis ...</td>\n",
       "      <td>la empresa social live dedicada al análisis de...</td>\n",
       "      <td>empresa social livir dedicado análisis bigdata...</td>\n",
       "      <td>negativo</td>\n",
       "    </tr>\n",
       "    <tr>\n",
       "      <th>2231</th>\n",
       "      <td>la escuela de postgrado del itba anuncia que s...</td>\n",
       "      <td>la escuela de postgrado del itba anuncia que s...</td>\n",
       "      <td>escuela postgrado itba anunciar encontrar abie...</td>\n",
       "      <td>negativo</td>\n",
       "    </tr>\n",
       "    <tr>\n",
       "      <th>2236</th>\n",
       "      <td>la evolución de bigdata , afirma meneses , lle...</td>\n",
       "      <td>la evolución de bigdata afirma meneses llegará...</td>\n",
       "      <td>evolución bigdata afirmar menés llegar lado re...</td>\n",
       "      <td>negativo</td>\n",
       "    </tr>\n",
       "    <tr>\n",
       "      <th>2238</th>\n",
       "      <td>la evolución de esos conceptos es conocida com...</td>\n",
       "      <td>la evolución de esos conceptos es conocida com...</td>\n",
       "      <td>evolución concepto ser conocer bigdata</td>\n",
       "      <td>negativo</td>\n",
       "    </tr>\n",
       "  </tbody>\n",
       "</table>\n",
       "</div>"
      ],
      "text/plain": [
       "                                                oracion  \\\n",
       "2225  la empresa fue incorporada al holding de monsa...   \n",
       "2229  la empresa social live , dedicada al análisis ...   \n",
       "2231  la escuela de postgrado del itba anuncia que s...   \n",
       "2236  la evolución de bigdata , afirma meneses , lle...   \n",
       "2238  la evolución de esos conceptos es conocida com...   \n",
       "\n",
       "                                           review_clean  \\\n",
       "2225  la empresa fue incorporada al holding de monsa...   \n",
       "2229  la empresa social live dedicada al análisis de...   \n",
       "2231  la escuela de postgrado del itba anuncia que s...   \n",
       "2236  la evolución de bigdata afirma meneses llegará...   \n",
       "2238  la evolución de esos conceptos es conocida com...   \n",
       "\n",
       "                                            review_lemm    estado  \n",
       "2225  empresa ser incorporar holding monsanto trabaj...  negativo  \n",
       "2229  empresa social livir dedicado análisis bigdata...  negativo  \n",
       "2231  escuela postgrado itba anunciar encontrar abie...  negativo  \n",
       "2236  evolución bigdata afirmar menés llegar lado re...  negativo  \n",
       "2238             evolución concepto ser conocer bigdata  negativo  "
      ]
     },
     "execution_count": 59,
     "metadata": {},
     "output_type": "execute_result"
    }
   ],
   "source": [
    "# Visualizamos que queden correctamente asignados los nombres \n",
    "\n",
    "combined.tail()"
   ]
  },
  {
   "cell_type": "code",
   "execution_count": 60,
   "metadata": {},
   "outputs": [],
   "source": [
    "# Creamos finalmente nuevo dataset de entrenamiento concatenando viejo y nuevo dataset\n",
    "\n",
    "rebased_df = pd.concat([combined, base_df])"
   ]
  },
  {
   "cell_type": "code",
   "execution_count": 61,
   "metadata": {},
   "outputs": [
    {
     "data": {
      "text/html": [
       "<div>\n",
       "<style scoped>\n",
       "    .dataframe tbody tr th:only-of-type {\n",
       "        vertical-align: middle;\n",
       "    }\n",
       "\n",
       "    .dataframe tbody tr th {\n",
       "        vertical-align: top;\n",
       "    }\n",
       "\n",
       "    .dataframe thead th {\n",
       "        text-align: right;\n",
       "    }\n",
       "</style>\n",
       "<table border=\"1\" class=\"dataframe\">\n",
       "  <thead>\n",
       "    <tr style=\"text-align: right;\">\n",
       "      <th></th>\n",
       "      <th>oracion</th>\n",
       "      <th>review_clean</th>\n",
       "      <th>review_lemm</th>\n",
       "      <th>estado</th>\n",
       "    </tr>\n",
       "  </thead>\n",
       "  <tbody>\n",
       "    <tr>\n",
       "      <th>1099</th>\n",
       "      <td>el bigdata es el último paradigma del deporte ...</td>\n",
       "      <td>el bigdata es el último paradigma del deporte ...</td>\n",
       "      <td>bigdata ser último paradigma deporte llegar re...</td>\n",
       "      <td>negativo</td>\n",
       "    </tr>\n",
       "    <tr>\n",
       "      <th>1101</th>\n",
       "      <td>el bigdata es la base de operaciones para deci...</td>\n",
       "      <td>el bigdata es la base de operaciones para deci...</td>\n",
       "      <td>bigdata ser base operación decidir serie conti...</td>\n",
       "      <td>negativo</td>\n",
       "    </tr>\n",
       "    <tr>\n",
       "      <th>1103</th>\n",
       "      <td>el bigdata es tan útil para las empresas porqu...</td>\n",
       "      <td>el bigdata es tan útil para las empresas porqu...</td>\n",
       "      <td>bigdata ser útil empresa funcionar punto refer...</td>\n",
       "      <td>negativo</td>\n",
       "    </tr>\n",
       "    <tr>\n",
       "      <th>1106</th>\n",
       "      <td>el bigdata está sobrevalorado ' , le dijo dona...</td>\n",
       "      <td>el bigdata está sobrevalorado le dijo donald t...</td>\n",
       "      <td>bigdata sobrevalorado decir donald trump the a...</td>\n",
       "      <td>negativo</td>\n",
       "    </tr>\n",
       "    <tr>\n",
       "      <th>1114</th>\n",
       "      <td>el bigdata o dataísmo , nombre de su novedosa ...</td>\n",
       "      <td>el bigdata o dataísmo nombre de su novedosa me...</td>\n",
       "      <td>bigdata dataísmo nombre novedoso metodología t...</td>\n",
       "      <td>negativo</td>\n",
       "    </tr>\n",
       "  </tbody>\n",
       "</table>\n",
       "</div>"
      ],
      "text/plain": [
       "                                                oracion  \\\n",
       "1099  el bigdata es el último paradigma del deporte ...   \n",
       "1101  el bigdata es la base de operaciones para deci...   \n",
       "1103  el bigdata es tan útil para las empresas porqu...   \n",
       "1106  el bigdata está sobrevalorado ' , le dijo dona...   \n",
       "1114  el bigdata o dataísmo , nombre de su novedosa ...   \n",
       "\n",
       "                                           review_clean  \\\n",
       "1099  el bigdata es el último paradigma del deporte ...   \n",
       "1101  el bigdata es la base de operaciones para deci...   \n",
       "1103  el bigdata es tan útil para las empresas porqu...   \n",
       "1106  el bigdata está sobrevalorado le dijo donald t...   \n",
       "1114  el bigdata o dataísmo nombre de su novedosa me...   \n",
       "\n",
       "                                            review_lemm    estado  \n",
       "1099  bigdata ser último paradigma deporte llegar re...  negativo  \n",
       "1101  bigdata ser base operación decidir serie conti...  negativo  \n",
       "1103  bigdata ser útil empresa funcionar punto refer...  negativo  \n",
       "1106  bigdata sobrevalorado decir donald trump the a...  negativo  \n",
       "1114  bigdata dataísmo nombre novedoso metodología t...  negativo  "
      ]
     },
     "execution_count": 61,
     "metadata": {},
     "output_type": "execute_result"
    }
   ],
   "source": [
    "# Corroboramos que se hayan concatenado sin problemas \n",
    "\n",
    "rebased_df.head()"
   ]
  },
  {
   "cell_type": "code",
   "execution_count": 62,
   "metadata": {},
   "outputs": [],
   "source": [
    "# Función para eliminar stopwords\n",
    "\n",
    "rebased_df['review_lemm'] = rebased_df['review_lemm'].apply(     lambda x: ' '.join([word for word in x.split() if word not in stopwords])     )"
   ]
  },
  {
   "cell_type": "code",
   "execution_count": 63,
   "metadata": {},
   "outputs": [
    {
     "data": {
      "text/plain": [
       "(734, 4)"
      ]
     },
     "execution_count": 63,
     "metadata": {},
     "output_type": "execute_result"
    }
   ],
   "source": [
    "# Visualizamos el shape del nuevo dataframe \n",
    "\n",
    "rebased_df.shape"
   ]
  },
  {
   "cell_type": "code",
   "execution_count": 64,
   "metadata": {},
   "outputs": [
    {
     "data": {
      "text/plain": [
       "Text(0.5, 1.0, '')"
      ]
     },
     "execution_count": 64,
     "metadata": {},
     "output_type": "execute_result"
    },
    {
     "data": {
      "image/png": "[encoded data removed]",
      "text/plain": [
       "<Figure size 432x288 with 1 Axes>"
      ]
     },
     "metadata": {},
     "output_type": "display_data"
    }
   ],
   "source": [
    "# Visualizamos la distribución de etiquetas \n",
    "\n",
    "sns.countplot(rebased_df['estado']).set_title('', size=22)"
   ]
  },
  {
   "cell_type": "markdown",
   "metadata": {},
   "source": [
    "<div style=\"padding: 10px 10px 10px 10px; color:black; background-color:lightgrey; text-align:left\">\n",
    "    <h4>Observaciones respecto a la distribución de muestras</h4>\n",
    "    <p>En el dataset anterior origianl tuvimos una proporción de muestras en una relación de 4 : 1 / 4+ : 1- </p>\n",
    "    <p>Por eso procedimos en su momento a una estrategia de oversampleado, para compensar la falta de muestras negativas</p>\n",
    "    <p>Ahora, con la concatenación de las muestras recientemente concatenadas, logramos una mejor distribución de valores.  </p>\n",
    "</div>"
   ]
  },
  {
   "cell_type": "markdown",
   "metadata": {},
   "source": [
    "## `Vectorizado`"
   ]
  },
  {
   "cell_type": "code",
   "execution_count": 65,
   "metadata": {},
   "outputs": [],
   "source": [
    "# Importamos librerías y creamos vectorizador\n",
    "\n",
    "from sklearn.feature_extraction.text import CountVectorizer\n",
    "from nltk.corpus import stopwords\n",
    "spacy_vec = CountVectorizer(stop_words=stopwords.words('spanish'), analyzer='word', max_features=300) # Importante determinar un número óptimo de max_features para optimizar rendimiento computacional \n",
    "\n",
    "# Se realizaron diferentes prubas de rendimiento respecto a los valores de max_features. Los mejores resultados los conseguimos en 300 "
   ]
  },
  {
   "cell_type": "code",
   "execution_count": 66,
   "metadata": {},
   "outputs": [],
   "source": [
    "# Transformamos los datos en bolsa de palabras\n",
    "\n",
    "count_data = spacy_vec.fit(rebased_df['review_lemm'])\n",
    "bag_of_words = spacy_vec.transform(rebased_df['review_lemm'])\n",
    "count_tokens = spacy_vec.get_feature_names()"
   ]
  },
  {
   "cell_type": "code",
   "execution_count": 67,
   "metadata": {},
   "outputs": [],
   "source": [
    "# Función para la visualización de matriz de confusion\n",
    "\n",
    "from sklearn.metrics import confusion_matrix\n",
    "import seaborn as sns\n",
    "\n",
    "def confusion(ytest,y_pred):\n",
    "    names=[\"Negativo\",\"Positivo\"]\n",
    "    cm=confusion_matrix(ytest,y_pred)\n",
    "    f,ax=plt.subplots(figsize=(5,5))\n",
    "    sns.heatmap(cm,annot=True,linewidth=.5,linecolor=\"r\",fmt=\".0f\",ax=ax)\n",
    "    plt.xlabel(\"y_pred\")\n",
    "    plt.ylabel(\"y_true\")\n",
    "    ax.set_xticklabels(names)\n",
    "    ax.set_yticklabels(names)\n",
    "    plt.show()\n",
    "\n",
    "    return"
   ]
  },
  {
   "cell_type": "markdown",
   "metadata": {},
   "source": [
    "## `Modelado`"
   ]
  },
  {
   "cell_type": "code",
   "execution_count": 68,
   "metadata": {},
   "outputs": [],
   "source": [
    "# Asignación de variables de target y entrenamiento\n",
    "\n",
    "x = bag_of_words.toarray() # 150\n",
    "y = rebased_df['estado']\n",
    "\n",
    "from sklearn.model_selection import train_test_split\n",
    "xtrain, xtest, ytrain, ytest = train_test_split(x,y,test_size=0.4,random_state=42,stratify=y)"
   ]
  },
  {
   "cell_type": "markdown",
   "metadata": {},
   "source": [
    "### `Naive Bayes`"
   ]
  },
  {
   "cell_type": "code",
   "execution_count": 69,
   "metadata": {},
   "outputs": [
    {
     "name": "stdout",
     "output_type": "stream",
     "text": [
      "acc :  0.6326530612244898\n"
     ]
    }
   ],
   "source": [
    "from sklearn.naive_bayes import GaussianNB\n",
    "nb = GaussianNB()\n",
    "nb.fit(xtrain,ytrain)\n",
    "print(\"acc : \", nb.score(xtest,ytest))"
   ]
  },
  {
   "cell_type": "code",
   "execution_count": 70,
   "metadata": {},
   "outputs": [],
   "source": [
    "nb_pred=nb.predict(xtest)"
   ]
  },
  {
   "cell_type": "code",
   "execution_count": 71,
   "metadata": {},
   "outputs": [
    {
     "data": {
      "image/png": "[encoded data removed]",
      "text/plain": [
       "<Figure size 360x360 with 2 Axes>"
      ]
     },
     "metadata": {},
     "output_type": "display_data"
    }
   ],
   "source": [
    "confusion(ytest, nb_pred)"
   ]
  },
  {
   "cell_type": "code",
   "execution_count": 72,
   "metadata": {
    "jupyter": {
     "source_hidden": true
    }
   },
   "outputs": [
    {
     "name": "stdout",
     "output_type": "stream",
     "text": [
      "Eficacia sobre las muestras negativas =>  76.74418604651163\n",
      "Eficacia sobre las muestras positivas =>  52.72727272727273\n"
     ]
    }
   ],
   "source": [
    "# Eficacia sobre cada tipo de muestra \n",
    "print('Eficacia sobre las muestras negativas => ', (99*100)/129)\n",
    "# Eficacia sobre cada tipo de muestra \n",
    "print('Eficacia sobre las muestras positivas => ', (87*100)/(46+119))"
   ]
  },
  {
   "cell_type": "code",
   "execution_count": 73,
   "metadata": {
    "jupyter": {
     "source_hidden": true
    }
   },
   "outputs": [],
   "source": [
    "models = []\n",
    "accuracy = []\n",
    "accu_pos = []\n",
    "accu_neg = []"
   ]
  },
  {
   "cell_type": "code",
   "execution_count": 74,
   "metadata": {
    "jupyter": {
     "source_hidden": true
    }
   },
   "outputs": [],
   "source": [
    "models.append('Naive Bayes')\n",
    "accuracy.append(0.624)\n",
    "accu_pos.append(52.727)\n",
    "accu_neg.append(75.193)"
   ]
  },
  {
   "cell_type": "markdown",
   "metadata": {},
   "source": [
    "### `Random Forest`"
   ]
  },
  {
   "cell_type": "code",
   "execution_count": 75,
   "metadata": {},
   "outputs": [
    {
     "name": "stdout",
     "output_type": "stream",
     "text": [
      "acc :  0.7210884353741497\n"
     ]
    }
   ],
   "source": [
    "from sklearn.ensemble import RandomForestClassifier\n",
    "#creación de modelo y entrenamiento\n",
    "rf = RandomForestClassifier(n_estimators=200, max_features='sqrt', n_jobs=-1, oob_score = False, random_state = 42).fit(xtrain, ytrain)\n",
    "print(\"acc : \", rf.score(xtest,ytest))"
   ]
  },
  {
   "cell_type": "code",
   "execution_count": 76,
   "metadata": {},
   "outputs": [],
   "source": [
    "rf_pred = rf.predict(xtest)"
   ]
  },
  {
   "cell_type": "code",
   "execution_count": 77,
   "metadata": {},
   "outputs": [
    {
     "data": {
      "image/png": "[encoded data removed]",
      "text/plain": [
       "<Figure size 360x360 with 2 Axes>"
      ]
     },
     "metadata": {},
     "output_type": "display_data"
    }
   ],
   "source": [
    "confusion(ytest, rf_pred)"
   ]
  },
  {
   "cell_type": "code",
   "execution_count": 78,
   "metadata": {},
   "outputs": [
    {
     "name": "stdout",
     "output_type": "stream",
     "text": [
      "Eficacia sobre las muestras negativas =>  68.21705426356588\n",
      "Eficacia sobre las muestras positivas =>  75.15151515151516\n"
     ]
    }
   ],
   "source": [
    "# Eficacia sobre cada tipo de muestra \n",
    "print('Eficacia sobre las muestras negativas => ', (88*100)/129)\n",
    "# Eficacia sobre cada tipo de muestra \n",
    "print('Eficacia sobre las muestras positivas => ', (124*100)/(46+119))"
   ]
  },
  {
   "cell_type": "code",
   "execution_count": 79,
   "metadata": {
    "jupyter": {
     "source_hidden": true
    }
   },
   "outputs": [],
   "source": [
    "models.append('Random Forest')\n",
    "accuracy.append(0.721)\n",
    "accu_neg.append(68.217)\n",
    "accu_pos.append(75.151)"
   ]
  },
  {
   "cell_type": "code",
   "execution_count": 80,
   "metadata": {},
   "outputs": [
    {
     "data": {
      "image/png": "[encoded data removed]",
      "text/plain": [
       "<Figure size 1080x576 with 1 Axes>"
      ]
     },
     "metadata": {},
     "output_type": "display_data"
    }
   ],
   "source": [
    "# Creamos un dataset para visualizar los features más importantes \n",
    "\n",
    "xtrain_df = pd.DataFrame(data = bag_of_words.toarray(), columns = count_tokens)\n",
    "importances = rf.feature_importances_\n",
    "columns = xtrain_df.columns\n",
    "indices = np.argsort(importances)[280:-1]\n",
    "\n",
    "plt.figure(figsize = (15,8))\n",
    "sns.barplot(columns[indices], importances[indices])\n",
    "plt.xticks(rotation=45)\n",
    "plt.show()"
   ]
  },
  {
   "cell_type": "markdown",
   "metadata": {},
   "source": [
    "### `Bagging`"
   ]
  },
  {
   "cell_type": "code",
   "execution_count": 81,
   "metadata": {},
   "outputs": [
    {
     "name": "stdout",
     "output_type": "stream",
     "text": [
      "0.6802721088435374\n"
     ]
    }
   ],
   "source": [
    "# Como tuvimos buenos resultados con el forest, probaremos otro ensamble \n",
    "\n",
    "from sklearn.ensemble import BaggingClassifier\n",
    "bgg = BaggingClassifier(base_estimator= GaussianNB(), n_estimators=50, random_state=42).fit(xtrain, ytrain)\n",
    "print(bgg.score(xtest, ytest))"
   ]
  },
  {
   "cell_type": "code",
   "execution_count": 82,
   "metadata": {},
   "outputs": [],
   "source": [
    "bgg_pred = bgg.predict(xtest)"
   ]
  },
  {
   "cell_type": "code",
   "execution_count": 83,
   "metadata": {},
   "outputs": [
    {
     "data": {
      "image/png": "[encoded data removed]",
      "text/plain": [
       "<Figure size 360x360 with 2 Axes>"
      ]
     },
     "metadata": {},
     "output_type": "display_data"
    }
   ],
   "source": [
    "confusion(ytest, bgg_pred)"
   ]
  },
  {
   "cell_type": "code",
   "execution_count": 84,
   "metadata": {},
   "outputs": [
    {
     "name": "stdout",
     "output_type": "stream",
     "text": [
      "Eficacia sobre las muestras negativas =>  73.64341085271317\n",
      "Eficacia sobre las muestras positivas =>  63.63636363636363\n"
     ]
    }
   ],
   "source": [
    "# Eficacia sobre cada tipo de muestra \n",
    "print('Eficacia sobre las muestras negativas => ', (95*100)/129)\n",
    "# Eficacia sobre cada tipo de muestra \n",
    "print('Eficacia sobre las muestras positivas => ', (105*100)/(46+119))"
   ]
  },
  {
   "cell_type": "code",
   "execution_count": 85,
   "metadata": {
    "jupyter": {
     "source_hidden": true
    }
   },
   "outputs": [],
   "source": [
    "models.append('Bagging')\n",
    "accuracy.append(0.680)\n",
    "accu_neg.append(73.643)\n",
    "accu_pos.append(63.636)"
   ]
  },
  {
   "cell_type": "markdown",
   "metadata": {},
   "source": [
    "### `SVC`"
   ]
  },
  {
   "cell_type": "code",
   "execution_count": 86,
   "metadata": {},
   "outputs": [
    {
     "data": {
      "text/plain": [
       "0.6700680272108843"
      ]
     },
     "execution_count": 86,
     "metadata": {},
     "output_type": "execute_result"
    }
   ],
   "source": [
    "from sklearn.svm import LinearSVC\n",
    "svc = LinearSVC(C = 1)\n",
    "svc.fit(xtrain, ytrain)\n",
    "svc.score(xtest, ytest)"
   ]
  },
  {
   "cell_type": "code",
   "execution_count": 87,
   "metadata": {},
   "outputs": [],
   "source": [
    "svc_pred = svc.predict(xtest)"
   ]
  },
  {
   "cell_type": "code",
   "execution_count": 88,
   "metadata": {},
   "outputs": [
    {
     "data": {
      "image/png": "[encoded data removed]",
      "text/plain": [
       "<Figure size 360x360 with 2 Axes>"
      ]
     },
     "metadata": {},
     "output_type": "display_data"
    }
   ],
   "source": [
    "confusion(ytest,svc_pred)"
   ]
  },
  {
   "cell_type": "code",
   "execution_count": 89,
   "metadata": {},
   "outputs": [
    {
     "name": "stdout",
     "output_type": "stream",
     "text": [
      "Eficacia sobre las muestras negativas =>  66.66666666666667\n",
      "Eficacia sobre las muestras positivas =>  67.27272727272727\n"
     ]
    }
   ],
   "source": [
    "# Eficacia sobre cada tipo de muestra \n",
    "print('Eficacia sobre las muestras negativas => ', (86*100)/129)\n",
    "# Eficacia sobre cada tipo de muestra \n",
    "print('Eficacia sobre las muestras positivas => ', (111*100)/(46+119))"
   ]
  },
  {
   "cell_type": "code",
   "execution_count": 90,
   "metadata": {
    "jupyter": {
     "source_hidden": true
    }
   },
   "outputs": [],
   "source": [
    "models.append('SVC')\n",
    "accuracy.append(0.670)\n",
    "accu_neg.append(66.666)\n",
    "accu_pos.append(67.272)"
   ]
  },
  {
   "cell_type": "markdown",
   "metadata": {},
   "source": [
    "### `Cross Validation + XGBoost`"
   ]
  },
  {
   "cell_type": "code",
   "execution_count": 91,
   "metadata": {},
   "outputs": [],
   "source": [
    "from xgboost import XGBClassifier\n",
    "from sklearn.model_selection import cross_validate,GridSearchCV\n",
    "from sklearn.metrics import confusion_matrix , accuracy_score\n",
    "clf=XGBClassifier()"
   ]
  },
  {
   "cell_type": "code",
   "execution_count": 92,
   "metadata": {},
   "outputs": [],
   "source": [
    "params={\"n_estimators\":[67,70,100,120],'reg_lambda':[2,1],'gamma':[0,0.3,0.2,0.1]\n",
    "       ,'eta':[0.06,0.05,0.04]\n",
    "        ,\"max_depth\":[3,5],'objective':['binary:logistic']}"
   ]
  },
  {
   "cell_type": "code",
   "execution_count": 93,
   "metadata": {},
   "outputs": [
    {
     "name": "stdout",
     "output_type": "stream",
     "text": [
      "Fitting 10 folds for each of 192 candidates, totalling 1920 fits\n"
     ]
    },
    {
     "data": {
      "text/plain": [
       "GridSearchCV(cv=10, estimator=XGBClassifier(), n_jobs=-1,\n",
       "             param_grid={'eta': [0.06, 0.05, 0.04], 'gamma': [0, 0.3, 0.2, 0.1],\n",
       "                         'max_depth': [3, 5],\n",
       "                         'n_estimators': [67, 70, 100, 120],\n",
       "                         'objective': ['binary:logistic'],\n",
       "                         'reg_lambda': [2, 1]},\n",
       "             verbose=1)"
      ]
     },
     "execution_count": 93,
     "metadata": {},
     "output_type": "execute_result"
    }
   ],
   "source": [
    "model=GridSearchCV(clf,params,cv=10,n_jobs=-1,verbose=1)\n",
    "model.fit(xtrain,ytrain)"
   ]
  },
  {
   "cell_type": "code",
   "execution_count": 94,
   "metadata": {},
   "outputs": [],
   "source": [
    "model_pred=model.predict(xtest)"
   ]
  },
  {
   "cell_type": "code",
   "execution_count": 95,
   "metadata": {},
   "outputs": [
    {
     "name": "stdout",
     "output_type": "stream",
     "text": [
      "acc:  0.7006802721088435\n"
     ]
    },
    {
     "data": {
      "text/plain": [
       "{'eta': 0.06,\n",
       " 'gamma': 0.3,\n",
       " 'max_depth': 3,\n",
       " 'n_estimators': 100,\n",
       " 'objective': 'binary:logistic',\n",
       " 'reg_lambda': 2}"
      ]
     },
     "execution_count": 95,
     "metadata": {},
     "output_type": "execute_result"
    }
   ],
   "source": [
    "print('acc: ', accuracy_score(model_pred,ytest))\n",
    "model.best_params_"
   ]
  },
  {
   "cell_type": "code",
   "execution_count": null,
   "metadata": {},
   "outputs": [],
   "source": []
  },
  {
   "cell_type": "code",
   "execution_count": 96,
   "metadata": {},
   "outputs": [
    {
     "data": {
      "image/png": "[encoded data removed]",
      "text/plain": [
       "<Figure size 360x360 with 2 Axes>"
      ]
     },
     "metadata": {},
     "output_type": "display_data"
    }
   ],
   "source": [
    "confusion(ytest, model_pred)"
   ]
  },
  {
   "cell_type": "code",
   "execution_count": 97,
   "metadata": {
    "jupyter": {
     "source_hidden": true
    }
   },
   "outputs": [
    {
     "name": "stdout",
     "output_type": "stream",
     "text": [
      "Eficacia sobre las muestras negativas =>  71.31782945736434\n",
      "Eficacia sobre las muestras positivas =>  69.0909090909091\n"
     ]
    }
   ],
   "source": [
    "# Eficacia sobre cada tipo de muestra \n",
    "print('Eficacia sobre las muestras negativas => ', (92*100)/129)\n",
    "# Eficacia sobre cada tipo de muestra \n",
    "print('Eficacia sobre las muestras positivas => ', (114*100)/(46+119))"
   ]
  },
  {
   "cell_type": "code",
   "execution_count": 98,
   "metadata": {
    "jupyter": {
     "source_hidden": true
    }
   },
   "outputs": [],
   "source": [
    "models.append('Cross Validartion')\n",
    "accuracy.append(0.700)\n",
    "accu_neg.append(71.319)\n",
    "accu_pos.append(69.090)"
   ]
  },
  {
   "cell_type": "code",
   "execution_count": 99,
   "metadata": {},
   "outputs": [
    {
     "data": {
      "text/html": [
       "<div>\n",
       "<style scoped>\n",
       "    .dataframe tbody tr th:only-of-type {\n",
       "        vertical-align: middle;\n",
       "    }\n",
       "\n",
       "    .dataframe tbody tr th {\n",
       "        vertical-align: top;\n",
       "    }\n",
       "\n",
       "    .dataframe thead th {\n",
       "        text-align: right;\n",
       "    }\n",
       "</style>\n",
       "<table border=\"1\" class=\"dataframe\">\n",
       "  <thead>\n",
       "    <tr style=\"text-align: right;\">\n",
       "      <th></th>\n",
       "      <th>model</th>\n",
       "      <th>accuracy</th>\n",
       "      <th>accu_neg</th>\n",
       "      <th>accu_pos</th>\n",
       "    </tr>\n",
       "  </thead>\n",
       "  <tbody>\n",
       "    <tr>\n",
       "      <th>1</th>\n",
       "      <td>Random Forest</td>\n",
       "      <td>0.721</td>\n",
       "      <td>68.217</td>\n",
       "      <td>75.151</td>\n",
       "    </tr>\n",
       "    <tr>\n",
       "      <th>4</th>\n",
       "      <td>Cross Validartion</td>\n",
       "      <td>0.700</td>\n",
       "      <td>71.319</td>\n",
       "      <td>69.090</td>\n",
       "    </tr>\n",
       "    <tr>\n",
       "      <th>2</th>\n",
       "      <td>Bagging</td>\n",
       "      <td>0.680</td>\n",
       "      <td>73.643</td>\n",
       "      <td>63.636</td>\n",
       "    </tr>\n",
       "    <tr>\n",
       "      <th>3</th>\n",
       "      <td>SVC</td>\n",
       "      <td>0.670</td>\n",
       "      <td>66.666</td>\n",
       "      <td>67.272</td>\n",
       "    </tr>\n",
       "    <tr>\n",
       "      <th>0</th>\n",
       "      <td>Naive Bayes</td>\n",
       "      <td>0.624</td>\n",
       "      <td>75.193</td>\n",
       "      <td>52.727</td>\n",
       "    </tr>\n",
       "  </tbody>\n",
       "</table>\n",
       "</div>"
      ],
      "text/plain": [
       "               model  accuracy  accu_neg  accu_pos\n",
       "1      Random Forest     0.721    68.217    75.151\n",
       "4  Cross Validartion     0.700    71.319    69.090\n",
       "2            Bagging     0.680    73.643    63.636\n",
       "3                SVC     0.670    66.666    67.272\n",
       "0        Naive Bayes     0.624    75.193    52.727"
      ]
     },
     "execution_count": 99,
     "metadata": {},
     "output_type": "execute_result"
    }
   ],
   "source": [
    "# Adjuntamos la información de los modelos y su accuracy en un dataframe así podemos graficarlo\n",
    "\n",
    "accuModels = pd.DataFrame({'model':models,'accuracy': accuracy, 'accu_neg': accu_neg, 'accu_pos':accu_pos})\n",
    "accuModels.sort_values('accuracy',ascending=False, inplace = True)\n",
    "accuModels"
   ]
  },
  {
   "cell_type": "code",
   "execution_count": 100,
   "metadata": {
    "jupyter": {
     "source_hidden": true
    }
   },
   "outputs": [
    {
     "data": {
      "image/png": "[encoded data removed]",
      "text/plain": [
       "<Figure size 1944x576 with 3 Axes>"
      ]
     },
     "metadata": {},
     "output_type": "display_data"
    }
   ],
   "source": [
    "plt.figure(figsize = (9*3,8))\n",
    "\n",
    "plt.subplot(1,3,1)\n",
    "sns.barplot(x = \"model\", y = \"accuracy\", hue = \"model\", data = accuModels).set_title('General Accuracy', size=22)\n",
    "\n",
    "plt.subplot(1,3,2)\n",
    "sns.barplot(x = \"model\", y = \"accu_neg\", hue = \"model\", data = accuModels).set_title('Negative Accuracy', size=22)\n",
    "\n",
    "plt.subplot(1,3,3)\n",
    "sns.barplot(x = \"model\", y = \"accu_pos\", hue = \"model\", data = accuModels).set_title('Positive Accuracy', size=22)\n",
    "\n",
    "plt.tight_layout()\n",
    "plt.show()"
   ]
  },
  {
   "cell_type": "markdown",
   "metadata": {},
   "source": [
    "### Pruebas de predicciones"
   ]
  },
  {
   "cell_type": "markdown",
   "metadata": {},
   "source": [
    "#### `Predicciones aleatorias con Random Forest`"
   ]
  },
  {
   "cell_type": "code",
   "execution_count": 101,
   "metadata": {},
   "outputs": [],
   "source": [
    "# Generamos una función que prediga muestras aleatorias del dataset haciendo uso del ranom forest\n",
    "\n",
    "def random_pred():\n",
    "    index_random = np.random.randint(0,high = dfpred.shape[0])\n",
    "    oracion = rebased_df.iloc[index_random].oracion\n",
    "    #     orvector = dfpred.iloc[index_random]\n",
    "    print(index_random, '=> ', oracion)\n",
    "    pred = rf.predict(bag_of_words[index_random].toarray())\n",
    "    print('Predicción =>' ,  pred, '\\n ','Etiqueta =>', rebased_df.iloc[index_random].estado)"
   ]
  },
  {
   "cell_type": "code",
   "execution_count": 102,
   "metadata": {},
   "outputs": [
    {
     "ename": "NameError",
     "evalue": "name 'dfpred' is not defined",
     "output_type": "error",
     "traceback": [
      "\u001b[1;31m---------------------------------------------------------------------------\u001b[0m",
      "\u001b[1;31mNameError\u001b[0m                                 Traceback (most recent call last)",
      "\u001b[1;32m<ipython-input-102-5627acb64ad2>\u001b[0m in \u001b[0;36m<module>\u001b[1;34m\u001b[0m\n\u001b[1;32m----> 1\u001b[1;33m \u001b[0mrandom_pred\u001b[0m\u001b[1;33m(\u001b[0m\u001b[1;33m)\u001b[0m\u001b[1;33m\u001b[0m\u001b[1;33m\u001b[0m\u001b[0m\n\u001b[0m",
      "\u001b[1;32m<ipython-input-101-21d7e69d116c>\u001b[0m in \u001b[0;36mrandom_pred\u001b[1;34m()\u001b[0m\n\u001b[0;32m      2\u001b[0m \u001b[1;33m\u001b[0m\u001b[0m\n\u001b[0;32m      3\u001b[0m \u001b[1;32mdef\u001b[0m \u001b[0mrandom_pred\u001b[0m\u001b[1;33m(\u001b[0m\u001b[1;33m)\u001b[0m\u001b[1;33m:\u001b[0m\u001b[1;33m\u001b[0m\u001b[1;33m\u001b[0m\u001b[0m\n\u001b[1;32m----> 4\u001b[1;33m     \u001b[0mindex_random\u001b[0m \u001b[1;33m=\u001b[0m \u001b[0mnp\u001b[0m\u001b[1;33m.\u001b[0m\u001b[0mrandom\u001b[0m\u001b[1;33m.\u001b[0m\u001b[0mrandint\u001b[0m\u001b[1;33m(\u001b[0m\u001b[1;36m0\u001b[0m\u001b[1;33m,\u001b[0m\u001b[0mhigh\u001b[0m \u001b[1;33m=\u001b[0m \u001b[0mdfpred\u001b[0m\u001b[1;33m.\u001b[0m\u001b[0mshape\u001b[0m\u001b[1;33m[\u001b[0m\u001b[1;36m0\u001b[0m\u001b[1;33m]\u001b[0m\u001b[1;33m)\u001b[0m\u001b[1;33m\u001b[0m\u001b[1;33m\u001b[0m\u001b[0m\n\u001b[0m\u001b[0;32m      5\u001b[0m     \u001b[0moracion\u001b[0m \u001b[1;33m=\u001b[0m \u001b[0mrebased_df\u001b[0m\u001b[1;33m.\u001b[0m\u001b[0miloc\u001b[0m\u001b[1;33m[\u001b[0m\u001b[0mindex_random\u001b[0m\u001b[1;33m]\u001b[0m\u001b[1;33m.\u001b[0m\u001b[0moracion\u001b[0m\u001b[1;33m\u001b[0m\u001b[1;33m\u001b[0m\u001b[0m\n\u001b[0;32m      6\u001b[0m     \u001b[1;31m#     orvector = dfpred.iloc[index_random]\u001b[0m\u001b[1;33m\u001b[0m\u001b[1;33m\u001b[0m\u001b[1;33m\u001b[0m\u001b[0m\n",
      "\u001b[1;31mNameError\u001b[0m: name 'dfpred' is not defined"
     ]
    }
   ],
   "source": [
    "random_pred()"
   ]
  },
  {
   "cell_type": "code",
   "execution_count": null,
   "metadata": {},
   "outputs": [],
   "source": [
    "random_pred()"
   ]
  },
  {
   "cell_type": "code",
   "execution_count": null,
   "metadata": {},
   "outputs": [],
   "source": [
    "random_pred()"
   ]
  },
  {
   "cell_type": "code",
   "execution_count": null,
   "metadata": {},
   "outputs": [],
   "source": [
    "random_pred()"
   ]
  },
  {
   "cell_type": "code",
   "execution_count": null,
   "metadata": {},
   "outputs": [],
   "source": [
    "random_pred()"
   ]
  },
  {
   "cell_type": "code",
   "execution_count": null,
   "metadata": {},
   "outputs": [],
   "source": [
    "random_pred()"
   ]
  },
  {
   "cell_type": "code",
   "execution_count": null,
   "metadata": {},
   "outputs": [],
   "source": [
    "random_pred()"
   ]
  },
  {
   "cell_type": "code",
   "execution_count": null,
   "metadata": {},
   "outputs": [],
   "source": [
    "random_pred()"
   ]
  },
  {
   "cell_type": "code",
   "execution_count": null,
   "metadata": {},
   "outputs": [],
   "source": [
    "random_pred()"
   ]
  },
  {
   "cell_type": "code",
   "execution_count": null,
   "metadata": {},
   "outputs": [],
   "source": [
    "random_pred()"
   ]
  },
  {
   "cell_type": "code",
   "execution_count": null,
   "metadata": {},
   "outputs": [],
   "source": [
    "random_pred()"
   ]
  },
  {
   "cell_type": "code",
   "execution_count": null,
   "metadata": {},
   "outputs": [],
   "source": [
    "random_pred()"
   ]
  },
  {
   "cell_type": "markdown",
   "metadata": {},
   "source": [
    "<hr></hr>\n",
    "<div style=\"padding: 10px 10px 10px 10px; background-color:lightgrey; color:black; text-align:left\">\n",
    "    <h3>Corolarios</h3>\n",
    "    <ul>\n",
    "        <li>\n",
    "            <strong>Todos nuestros modelos han cumplido el objetivo propuesto: superar el 65% de eficacia en la clasificación de muestras negativas!</strong>\n",
    "        </li>\n",
    "        <li>Sin embargo, los resultados muestran un sabor agridulce. Al analizar las muestras específicas clasificadas ya como positivas o negativas no demuestran mucho sentido.</li>\n",
    "        <li>En parte, y de esto seguiremos habando luego, pareciera ser especialmente difícil establecer criterios de demarcación de polaridad en documentos que provienen de un contexto como el periodístico, donde no prevalece una función evaluativa ni emotiva del lenguaje como puede ser común en otras instancias.</li>\n",
    "    </ul>\n",
    "    <hr/>\n",
    "    <h5>¿Qué podemos hacer al respecto?</h5>\n",
    "</div>"
   ]
  },
  {
   "cell_type": "markdown",
   "metadata": {},
   "source": [
    "# Topic Modelling"
   ]
  },
  {
   "cell_type": "markdown",
   "metadata": {},
   "source": [
    "<hr></hr>\n",
    "<div style=\"padding: 10px 10px 10px 10px; background-color:lightgrey; color:black; text-align:left\">\n",
    "    <h3>Propuesta</h3>\n",
    "    <ul>\n",
    "        <li>\n",
    "            <strong>Los resultados en materia de clasificación nos dejan un sabor agridulce.</strong>\n",
    "        </li>\n",
    "        <li>\n",
    "            Puede que esperar que cada oración caiga de un lado u otro de la polaridad sentimental sea mucho para documentos de origen periodístico. \n",
    "        </li>\n",
    "        <li>\n",
    "            Después de todo, recordamos que dichas oraciones fueron extraídas de noticias de importantes diarios en argentina. Es de esperar que el registro \"tonal\" en el que se manifiesten las ideas que en cada caso contemplan la noción de \"big data\" como objeto de referencia sean dadas, naturalmente, en un registro neutral o ligeramente positivo. Tal podría ser considerada como una característica propia de la escritura periodística. \n",
    "        </li>\n",
    "        <li>\n",
    "            Quizás es más valioso u oportuno ejecutar este tipo de análisis allí donde expresamente esperamos un registro emocional en el texto, tal como son los casos de reviews de producto adquiridos en un e-commerce, o piezas textuales producidas en ámbitos de freceunte polarización como tweeter. \n",
    "        </li>   \n",
    "        <li>\n",
    "            A lo sumo, quizás sean mucho más fácilmente catalogables los comentarios que usuarios puedan haber producidos en relación a los fragmentos de las notas periodísticas que hemos analizado, pues es esperable que los lectores, en tanto comentaristas, estén mucho más influenciados por la emoción al momento de compartir una idea que lo que se espera del lado de un periodista. ¿No? Pues, esa parece ser una experiencia usual en la web.\n",
    "        </li>\n",
    "    </ul>\n",
    "    <h3>¿Entonces qué podemos hacer?</h3>\n",
    "    <ul>\n",
    "        <li>Si lo que estamos analizando son piezas de textos de carácter periodístico en relación a un tema específico, entonces podemos suponer que quizás podamos descubrir diferentes redes de asociaciones de sentido alrededor del tema en cuestión.</li>\n",
    "        <li><strong>¿Será posible encontrar diferentes tópicos y asociaciones alrededor de la noción de big data?</strong></li>\n",
    "        <li><strong>¿Es posible que cuándo pensemos en big data estemos direccionados en pensar ciertas cosas u otras?</strong></li>\n",
    "        <li>Es decir, esta suposición de que pueden existir diferentes redes de sentido asociados a un fenómeno particular, puede verse claramente en casi cualquier tema que sea parte de la arena de discusión pública. <strong>Pensemos en el caso de, por ejemplo, Trump:</strong></li>\n",
    "        <ul>\n",
    "            <li>Por un lado estarán quienes asocien a su nombre las nociones de: \"crecimiento\", \"economía\", \"américa\", \"trabajo\". </li>\n",
    "            <li>Y por el otro estarán quienes asocien a su nombre las idea de: \"populismo\", \"enfrentamiento\", \"violencia\", \"división\".</li>\n",
    "        </ul>\n",
    "    </ul>\n",
    "    <h4>¿Podremos encontrar redes de sentido en nuestro dataset?</h4>\n",
    "    <p><strong>Vamos a implementar una estrategia de Topic Modelling! </strong></p>\n",
    "</div>"
   ]
  },
  {
   "cell_type": "code",
   "execution_count": null,
   "metadata": {},
   "outputs": [],
   "source": [
    "# Importamos la librería correspondiente \n",
    "\n",
    "from sklearn.decomposition import LatentDirichletAllocation  \n",
    "lda = LatentDirichletAllocation(n_components=3)                # Prestar atención que por ahora nos manejamos con solo 2 típicos\n",
    "lda.fit(bag_of_words)                                          # Usamos el bag of word que ya teníamos previamente creada"
   ]
  },
  {
   "cell_type": "code",
   "execution_count": null,
   "metadata": {},
   "outputs": [],
   "source": [
    "# Concatenamos la bolsa de palabras con los valores nominales de cada token (count_token, variable que también hemos creado con anterioridad  )\n",
    "\n",
    "for idx, topic in enumerate(lda.components_):\n",
    "    print (\"Topic \", idx, \" \".join(count_tokens[i] for i in topic.argsort()[:-20 - 1:-1] ), '\\n')"
   ]
  },
  {
   "cell_type": "markdown",
   "metadata": {},
   "source": [
    "- **Topic  1:** bigdata ser mundo decir haber hacer nuevo digital inteligencia_artificial último importante cada campo inteligencia poder venir si cambio ver artificial \n",
    "\n",
    "Si hay algo que nos pueda decir este \"tópico\" es que se asocia big data a un campo específido de innovación digital como lo es la inteligencia artifical, campo de innovación que traería un poder de transformación e innovación a otros campos. \n",
    "\n",
    "- **Topic  2:** bigdata nuevo uso cliente ser dato tener tecnología empresa forma permitir real crear través poder conocer tomar persona transformar mejorar \n",
    "\n",
    "Este es el único tópico donde se asocia simultáneamente a las nociones de \"cliente\", \"empresa\". Quizás sea una red semántica asociada las nuevas funcionalidades tecnológicas y servicios que se generan alrededor del bigdata. \n",
    "\n",
    "- **Topic  3:** bigdata dato ser poder información análisis herramienta sistema tecnología grande volumen haber permitir utilizar bigdatar internet usuario hacer analizar empresa \n",
    "\n",
    "Es interesante que aquí se asocie el big data con la idea de herramiento, análisis y volumen, lo que parecería ser una red de sentido más ajustada a la lógica de funcionamiento o escenario de funcionamiento de dicha tecnología. \n",
    "\n",
    "\n"
   ]
  },
  {
   "cell_type": "markdown",
   "metadata": {},
   "source": [
    "<div style=\"padding: 10px 10px 10px 10px; background-color:lightgrey; color:black; text-align:left\">\n",
    "    <h3>Observaciones</h3>\n",
    "    <p>\n",
    "        No está claro que haya un campo semántico definido para cada tópico, tampoco, por supuesto, tendría que haberlo. Sería interesante que sí lo haya. Aunque como analizamos anteriormente, es posible que la distinción de campos semánticos alrededor de un tema devenga con más claridad allí donde encontramos un campo de polaridad. Esto es algo que podríamos encontrar con más frecuencia en los temas discutidos de ambos lado de una \"grieta\". \n",
    "    </p>\n",
    "    <p>Otro espacio donde podríamos encontrar una mayor claridad de ámbitos semánticos podrían ser todos aquellos objetos, temas o fenómenos abordados desde diferentes perspectivas ideológicas o culturales. Si, por ejemplo, analizásemos textos filosofía de la ciencia del sigo XVI, XVII y XVIII, podríamos imaginar diversos campos semánticos alrededor de estos términos donde podríamos observar el núcleo de caracterizaciones de diferentes corrientes, como la del empirismo, racionalismo e idealismo, cada una con su propia terminología específica. Lo mismo pasaría si análizacemos textos de política monetaria de una u otra corriente.   \n",
    "    </p>\n",
    "    <p>\n",
    "        Lo que sí está claro, de todas maneras, es que independientemente del número de topics generados, prevalece la noción de bigdata. Está claro que las redes semánticas que en cada caso se contruyen están directamente asociadas a nuestro objeto de análisis.\n",
    "    </p>\n",
    "    <p>\n",
    "        <strong>Hagamos algunas pruebas para analizar sus resultados. </strong>\n",
    "    </p>\n",
    "</div>"
   ]
  },
  {
   "cell_type": "code",
   "execution_count": null,
   "metadata": {},
   "outputs": [],
   "source": [
    "# Creamos una función que selecciona una oración random, la pre-procesa y la compara con los tópicos disponibles\n",
    "\n",
    "def topic_modelling():\n",
    "    # 1 obtener loc\n",
    "    index_random = np.random.randint(0,high = rebased_df.shape[0])\n",
    "    oracion = rebased_df.iloc[index_random].oracion\n",
    "    print(index_random, oracion, '\\n')\n",
    "    \n",
    "    # 2 pre-procesarlo\n",
    "#     oracion=re.sub(\"[^a-zA-Z]\",\" \",str(oracion))\n",
    "    # Pasamos todo a minúsculas\n",
    "    oracion=oracion.lower()\n",
    "    # Tokenizamos para separar las palabras del titular\n",
    "    oracion=nltk.word_tokenize(oracion)\n",
    "    # Sacamos las Stopwords\n",
    "    oracion = [palabra for palabra in oracion if not palabra in stop_words]\n",
    "    \n",
    "    # Por ultimo volvemos a unir el titular\n",
    "    oracion=\" \".join(oracion)\n",
    "    # Vamos armando una lista con todos los titulares\n",
    "    print(oracion, '\\n')\n",
    "    \n",
    "    # 3 comparar\n",
    "    print(lda.transform(spacy_vec.transform([oracion])), '\\n')"
   ]
  },
  {
   "cell_type": "code",
   "execution_count": null,
   "metadata": {},
   "outputs": [],
   "source": [
    "topic_modelling()"
   ]
  },
  {
   "cell_type": "code",
   "execution_count": null,
   "metadata": {},
   "outputs": [],
   "source": [
    "topic_modelling()"
   ]
  },
  {
   "cell_type": "markdown",
   "metadata": {},
   "source": [
    "<div style=\"padding: 10px 10px 10px 10px; background-color:lightgrey; color:black; text-align:left\">\n",
    "    <h3>Conclusiones</h3>\n",
    "    <p>\n",
    "        Llego al final de este informe con un conocimiento más claro de cómo se utilizan las herramientas de análisis puestas aquí en funcionamiento.\n",
    "    </p>\n",
    "    <p>\n",
    "        Sin embargo, no puedo decir que mis expectitivas se hayan cumplido en torno a los resultados alcanzados. Pretendí y supuse posible llegar a mejores resultados en la clasificación de sentimientos, como en la exploración de campos semátinticos. \n",
    "    </p>\n",
    "    <p>\n",
    "        Como lo fui explicando paso a paso, creo tener un par de razones para pensar porqué tales resultados no se dieron. Quizás una estrategia que se remita a tales fines, tan estandarizados ya en el campo de NLP, sean más fructíferos con mejores datos de otros ámbitos.  \n",
    "    </p>\n",
    "    <p>\n",
    "        <strong>Con respecto a la clasificación de sentimientos </strong> quizás sea mucho más fácil hacerlo en aquellas instancias donde encontramos desde el instante mismo de generación de los datos con una clasificación dada por el emisor. Me refieron, por ejemplo, a los comentarios que alguien pueda dejar de un producto recién comprado en mercadoLibre, a lo que le suma también una clasificación numérica. \n",
    "    </p>\n",
    "    <p>\n",
    "        Son también estos espacios, instancias donde esperamos que aflore la polaridad evaluativa en nuestras evaluaciones. No sucede tanto así en lo que se espera de un registro periodístico. Esto, como decía, puede servirnos para explicar en parte nuestros magros resultados.\n",
    "    </p>\n",
    "    <p>\n",
    "        <strong>Con respecto al topic modeliing</strong>, dijimos también que por las mismas razones iba a ser esperable que no encontremos campos semánticos claros, más allá de las redes de asociación estadística que tienen un sentido computacional, pero no nosotros humanos. Por lo menos en un tema como \"big data\", donde claramente no existe todavía una \"grieta\" ni la conformación de posiciones en el discurso desde el que los emisores puedan posicionarse.\n",
    "    </p>\n",
    "    <p>\n",
    "        Por todo esto, el informe, todo el proyecto, me sirve más para entender el campo actual de los sentidos atribuidos al big data en arena periodística argentina, que para la creación de un código que automatice procesos de clasificación supervisada, o exploración no supervizada como en topic modeling.  \n",
    "    </p>\n",
    "    <p>Lo cual tampoco está mal. Uno no produce piezas de código per se, sino por el valor que te permiten extraer de los datos analizados. Si bien los resultados de estas piezas no llegaron a ser como esperabas (como algoritmos de manual), sí me terminan revelando un conocimiento más profundo acerca de cómo se piensa y expresan los medios en relación al bid data en un país como el nuestro. </p>\n",
    "    <ul>\n",
    "        <li>\n",
    "            Se destaca que es un tema que no pareciera estar afectado por un fenómeno como de la grieta política. No hay  un bando de un lado y del otro que defiendan a su manera y con su propia discurso y terminología una valoración moral en disputa. Algo que tranquilamente puede pasar con cualquiera sea el tema que domine la arena de la discusión pública: dólares, vacunas, economía, etc.\n",
    "        </li>\n",
    "        <li>\n",
    "            Asimismo, el tema se presenta como un fenómeno del que se quiere rescatar sobre todo sus aspectos positivos, o al menos llamativos. Lo suficientemente llamativos como atraer la atención de los internautas. \n",
    "        </li>\n",
    "        <li>De la misma manera, muchos de los aspectos negativos que comienzan a discutirse en relación al big data, problemas relacionados a la manipulación algorítmica, protección de datos y de la privacidad de los usuarios, problemas todos que comienzan a discutirse en revistas especializadas y hasta en documentales de amplio impacto (The great hack, o Social Dilemma, sólo para nombras 2 documentales disponibles en Netflix), no aparecen claramente visivilizados en los comentarios analizados ni en la detección de topics.\n",
    "        </li>\n",
    "    </ul>\n",
    "</div>"
   ]
  }
 ],
 "metadata": {
  "kernelspec": {
   "display_name": "Python 3",
   "language": "python",
   "name": "python3"
  },
  "language_info": {
   "codemirror_mode": {
    "name": "ipython",
    "version": 3
   },
   "file_extension": ".py",
   "mimetype": "text/x-python",
   "name": "python",
   "nbconvert_exporter": "python",
   "pygments_lexer": "ipython3",
   "version": "3.7.6"
  },
  "toc-autonumbering": false,
  "toc-showcode": false,
  "toc-showmarkdowntxt": false
 },
 "nbformat": 4,
 "nbformat_minor": 4
}
